{
 "cells": [
  {
   "cell_type": "markdown",
   "id": "83464219",
   "metadata": {},
   "source": [
    "# Выбор региона для разработки, \"ГлавРосГос Нефть\" "
   ]
  },
  {
   "cell_type": "markdown",
   "id": "5ac2a5c0",
   "metadata": {},
   "source": [
    "Добывающей компании «ГлавРосГосНефть» нужно решить, где бурить новую скважину. \n",
    "Шаги для выбора локации:\n",
    "В избранном регионе собираем характеристики для скважин: качество нефти и объём её запасов;\n",
    "Строим модель для предсказания объёма запасов в новых скважинах;\n",
    "Выбираем скважины с самыми высокими оценками значений;\n",
    "Определяем регион с максимальной суммарной прибылью отобранных скважин.\n",
    "Предоставлены пробы нефти в трёх регионах. Характеристики для каждой скважины в регионе уже известны. Построим модель для определения региона, где добыча принесёт наибольшую прибыль. Проанализируем возможную прибыль и риски техникой Bootstrap."
   ]
  },
  {
   "cell_type": "markdown",
   "id": "11c6624c",
   "metadata": {},
   "source": [
    "id — уникальный идентификатор скважины;\n",
    "f0, f1, f2 — три признака точек;\n",
    "product — объём запасов в скважине (тыс. баррелей).\n",
    "\n",
    "При разведке региона исследуют 500 точек, из которых с помощью машинного обучения выберем 200 лучших для разработки.\n",
    "Бюджет на разработку скважин в регионе — 10 млрд рублей.\n",
    "При нынешних ценах один баррель сырья приносит 450 рублей дохода. Доход с каждой единицы продукта составляет 450 тыс. рублей, поскольку объём указан в тысячах баррелей.\n",
    "После оценки рисков оставим лишь те регионы, в которых вероятность убытков меньше 2.5%. Среди них выбирем регион с наибольшей средней прибылью."
   ]
  },
  {
   "cell_type": "code",
   "execution_count": 1,
   "id": "b9394934",
   "metadata": {},
   "outputs": [],
   "source": [
    "import pandas as pd\n",
    "import sklearn \n",
    "from sklearn.model_selection import train_test_split\n",
    "import numpy as np\n",
    "from sklearn.linear_model import LinearRegression\n",
    "from sklearn.metrics import mean_squared_error\n",
    "from scipy import stats as st\n",
    "import matplotlib.pyplot as plt\n",
    "import seaborn as sns"
   ]
  },
  {
   "cell_type": "code",
   "execution_count": 2,
   "id": "cf80a110",
   "metadata": {},
   "outputs": [],
   "source": [
    "# бюджет\n",
    "REGION_BUDGET = 10_000_000_000\n",
    "# количество скважин\n",
    "NUMBER_OF_WELLS = 200\n",
    "#стоимость единицы сырья\n",
    "INCOME_PER_UNIT = 450_000"
   ]
  },
  {
   "cell_type": "markdown",
   "id": "38a1e900",
   "metadata": {},
   "source": [
    "<div class=\"alert alert-block alert-success\"><b>Комментарий ревьюера </b>\n",
    "    \n",
    "<b>Успех:</b><br>\n",
    "👍 Константы оформлены согласно руководству по написанию кода на Python [PEP-8](https://pythonworld.ru/osnovy/pep-8-rukovodstvo-po-napisaniyu-koda-na-python.html#section-29)\n",
    "* Для записи больших чисел и более удобного чтения, чтобы не запутаться в нулях, можно использовать еще такую запись:  `10e9`, что означает 10 * 10**9.      \n",
    "</div> "
   ]
  },
  {
   "cell_type": "markdown",
   "id": "764b4486",
   "metadata": {},
   "source": [
    "## 1. Загрузим и подготовим данные"
   ]
  },
  {
   "cell_type": "code",
   "execution_count": 3,
   "id": "7e5778e3",
   "metadata": {},
   "outputs": [],
   "source": [
    "try:\n",
    "    data_0 = pd.read_csv('/Users/admin/Downloads/geo_data_0.csv')\n",
    "    data_1 = pd.read_csv('/Users/admin/Downloads/geo_data_1.csv')\n",
    "    data_2 = pd.read_csv('/Users/admin/Downloads/geo_data_2.csv')\n",
    "except:\n",
    "    data_0 = pd.read_csv('/datasets/geo_data_0.csv')\n",
    "    data_1 = pd.read_csv('/datasets/geo_data_1.csv')\n",
    "    data_2 = pd.read_csv('/datasets/geo_data_2.csv')\n"
   ]
  },
  {
   "cell_type": "code",
   "execution_count": 5,
   "id": "ad8a4fcc",
   "metadata": {},
   "outputs": [
    {
     "name": "stdout",
     "output_type": "stream",
     "text": [
      "          id        f0        f1         f2     product\n",
      "64367  8yF5j  1.252931 -0.488510  -0.760343   99.085892\n",
      "62895  kVR9a  0.668998 -0.390542   3.052643   98.404038\n",
      "16805  HpcmX -0.756267  0.901805  10.772250  153.643229\n",
      "96872  sN3il  1.058225 -0.064195   2.028100   67.270938\n",
      "7001   q9YrU  1.634999  0.166567   3.963883  137.166378\n",
      "          id         f0         f1        f2     product\n",
      "5504   Q7O1O   7.397184 -10.814944  1.991310   53.906522\n",
      "78855  XMGUb -10.978308  -5.992055  0.998629   30.132364\n",
      "91968  i72kb  -6.168685  -8.927826  2.007201   57.085625\n",
      "39163  xT7HC   0.976269  -3.242051  3.001114   84.038886\n",
      "75559  T2rop  -4.494208  -1.875884  4.997355  137.945408\n",
      "          id        f0        f1        f2     product\n",
      "54502  JH83J -1.542083 -1.694661  3.384286  108.777946\n",
      "83570  WP0h8 -0.137598 -1.438817  4.430274  136.252424\n",
      "71611  So8pP  0.406443 -0.470525  6.422480  100.812540\n",
      "79027  CZxPk -1.714717  2.406218 -2.680928   57.736516\n",
      "3328   j2vqc  0.827227  0.280952  4.411453  115.507204\n"
     ]
    }
   ],
   "source": [
    "print(data_0.sample(5))\n",
    "print(data_1.sample(5))\n",
    "print(data_2.sample(5))"
   ]
  },
  {
   "cell_type": "code",
   "execution_count": 6,
   "id": "7cbf9ea8",
   "metadata": {},
   "outputs": [
    {
     "name": "stdout",
     "output_type": "stream",
     "text": [
      "(100000, 5)\n",
      "(100000, 5)\n",
      "(100000, 5)\n"
     ]
    }
   ],
   "source": [
    "print(data_0.shape)\n",
    "print(data_1.shape)\n",
    "print(data_2.shape)"
   ]
  },
  {
   "cell_type": "code",
   "execution_count": 7,
   "id": "ffcb562b",
   "metadata": {},
   "outputs": [
    {
     "name": "stdout",
     "output_type": "stream",
     "text": [
      "<class 'pandas.core.frame.DataFrame'>\n",
      "RangeIndex: 100000 entries, 0 to 99999\n",
      "Data columns (total 5 columns):\n",
      " #   Column   Non-Null Count   Dtype  \n",
      "---  ------   --------------   -----  \n",
      " 0   id       100000 non-null  object \n",
      " 1   f0       100000 non-null  float64\n",
      " 2   f1       100000 non-null  float64\n",
      " 3   f2       100000 non-null  float64\n",
      " 4   product  100000 non-null  float64\n",
      "dtypes: float64(4), object(1)\n",
      "memory usage: 3.8+ MB\n",
      "None\n",
      "<class 'pandas.core.frame.DataFrame'>\n",
      "RangeIndex: 100000 entries, 0 to 99999\n",
      "Data columns (total 5 columns):\n",
      " #   Column   Non-Null Count   Dtype  \n",
      "---  ------   --------------   -----  \n",
      " 0   id       100000 non-null  object \n",
      " 1   f0       100000 non-null  float64\n",
      " 2   f1       100000 non-null  float64\n",
      " 3   f2       100000 non-null  float64\n",
      " 4   product  100000 non-null  float64\n",
      "dtypes: float64(4), object(1)\n",
      "memory usage: 3.8+ MB\n",
      "None\n",
      "<class 'pandas.core.frame.DataFrame'>\n",
      "RangeIndex: 100000 entries, 0 to 99999\n",
      "Data columns (total 5 columns):\n",
      " #   Column   Non-Null Count   Dtype  \n",
      "---  ------   --------------   -----  \n",
      " 0   id       100000 non-null  object \n",
      " 1   f0       100000 non-null  float64\n",
      " 2   f1       100000 non-null  float64\n",
      " 3   f2       100000 non-null  float64\n",
      " 4   product  100000 non-null  float64\n",
      "dtypes: float64(4), object(1)\n",
      "memory usage: 3.8+ MB\n",
      "None\n"
     ]
    }
   ],
   "source": [
    "print(data_0.info())\n",
    "print(data_1.info())\n",
    "print(data_2.info())"
   ]
  },
  {
   "cell_type": "markdown",
   "id": "3c5906bc",
   "metadata": {},
   "source": [
    "Итак, по каждому из трех регионов имеем информацию о 100 000 скважинах."
   ]
  },
  {
   "cell_type": "code",
   "execution_count": 8,
   "id": "603888e9",
   "metadata": {},
   "outputs": [
    {
     "data": {
      "text/html": [
       "<div>\n",
       "<style scoped>\n",
       "    .dataframe tbody tr th:only-of-type {\n",
       "        vertical-align: middle;\n",
       "    }\n",
       "\n",
       "    .dataframe tbody tr th {\n",
       "        vertical-align: top;\n",
       "    }\n",
       "\n",
       "    .dataframe thead th {\n",
       "        text-align: right;\n",
       "    }\n",
       "</style>\n",
       "<table border=\"1\" class=\"dataframe\">\n",
       "  <thead>\n",
       "    <tr style=\"text-align: right;\">\n",
       "      <th></th>\n",
       "      <th>f0</th>\n",
       "      <th>f1</th>\n",
       "      <th>f2</th>\n",
       "      <th>product</th>\n",
       "    </tr>\n",
       "  </thead>\n",
       "  <tbody>\n",
       "    <tr>\n",
       "      <th>count</th>\n",
       "      <td>100000.000000</td>\n",
       "      <td>100000.000000</td>\n",
       "      <td>100000.000000</td>\n",
       "      <td>100000.000000</td>\n",
       "    </tr>\n",
       "    <tr>\n",
       "      <th>mean</th>\n",
       "      <td>0.500419</td>\n",
       "      <td>0.250143</td>\n",
       "      <td>2.502647</td>\n",
       "      <td>92.500000</td>\n",
       "    </tr>\n",
       "    <tr>\n",
       "      <th>std</th>\n",
       "      <td>0.871832</td>\n",
       "      <td>0.504433</td>\n",
       "      <td>3.248248</td>\n",
       "      <td>44.288691</td>\n",
       "    </tr>\n",
       "    <tr>\n",
       "      <th>min</th>\n",
       "      <td>-1.408605</td>\n",
       "      <td>-0.848218</td>\n",
       "      <td>-12.088328</td>\n",
       "      <td>0.000000</td>\n",
       "    </tr>\n",
       "    <tr>\n",
       "      <th>25%</th>\n",
       "      <td>-0.072580</td>\n",
       "      <td>-0.200881</td>\n",
       "      <td>0.287748</td>\n",
       "      <td>56.497507</td>\n",
       "    </tr>\n",
       "    <tr>\n",
       "      <th>50%</th>\n",
       "      <td>0.502360</td>\n",
       "      <td>0.250252</td>\n",
       "      <td>2.515969</td>\n",
       "      <td>91.849972</td>\n",
       "    </tr>\n",
       "    <tr>\n",
       "      <th>75%</th>\n",
       "      <td>1.073581</td>\n",
       "      <td>0.700646</td>\n",
       "      <td>4.715088</td>\n",
       "      <td>128.564089</td>\n",
       "    </tr>\n",
       "    <tr>\n",
       "      <th>max</th>\n",
       "      <td>2.362331</td>\n",
       "      <td>1.343769</td>\n",
       "      <td>16.003790</td>\n",
       "      <td>185.364347</td>\n",
       "    </tr>\n",
       "  </tbody>\n",
       "</table>\n",
       "</div>"
      ],
      "text/plain": [
       "                  f0             f1             f2        product\n",
       "count  100000.000000  100000.000000  100000.000000  100000.000000\n",
       "mean        0.500419       0.250143       2.502647      92.500000\n",
       "std         0.871832       0.504433       3.248248      44.288691\n",
       "min        -1.408605      -0.848218     -12.088328       0.000000\n",
       "25%        -0.072580      -0.200881       0.287748      56.497507\n",
       "50%         0.502360       0.250252       2.515969      91.849972\n",
       "75%         1.073581       0.700646       4.715088     128.564089\n",
       "max         2.362331       1.343769      16.003790     185.364347"
      ]
     },
     "execution_count": 8,
     "metadata": {},
     "output_type": "execute_result"
    }
   ],
   "source": [
    "data_0.describe()"
   ]
  },
  {
   "cell_type": "code",
   "execution_count": 9,
   "id": "016e90e1",
   "metadata": {},
   "outputs": [
    {
     "data": {
      "text/html": [
       "<div>\n",
       "<style scoped>\n",
       "    .dataframe tbody tr th:only-of-type {\n",
       "        vertical-align: middle;\n",
       "    }\n",
       "\n",
       "    .dataframe tbody tr th {\n",
       "        vertical-align: top;\n",
       "    }\n",
       "\n",
       "    .dataframe thead th {\n",
       "        text-align: right;\n",
       "    }\n",
       "</style>\n",
       "<table border=\"1\" class=\"dataframe\">\n",
       "  <thead>\n",
       "    <tr style=\"text-align: right;\">\n",
       "      <th></th>\n",
       "      <th>f0</th>\n",
       "      <th>f1</th>\n",
       "      <th>f2</th>\n",
       "      <th>product</th>\n",
       "    </tr>\n",
       "  </thead>\n",
       "  <tbody>\n",
       "    <tr>\n",
       "      <th>count</th>\n",
       "      <td>100000.000000</td>\n",
       "      <td>100000.000000</td>\n",
       "      <td>100000.000000</td>\n",
       "      <td>100000.000000</td>\n",
       "    </tr>\n",
       "    <tr>\n",
       "      <th>mean</th>\n",
       "      <td>1.141296</td>\n",
       "      <td>-4.796579</td>\n",
       "      <td>2.494541</td>\n",
       "      <td>68.825000</td>\n",
       "    </tr>\n",
       "    <tr>\n",
       "      <th>std</th>\n",
       "      <td>8.965932</td>\n",
       "      <td>5.119872</td>\n",
       "      <td>1.703572</td>\n",
       "      <td>45.944423</td>\n",
       "    </tr>\n",
       "    <tr>\n",
       "      <th>min</th>\n",
       "      <td>-31.609576</td>\n",
       "      <td>-26.358598</td>\n",
       "      <td>-0.018144</td>\n",
       "      <td>0.000000</td>\n",
       "    </tr>\n",
       "    <tr>\n",
       "      <th>25%</th>\n",
       "      <td>-6.298551</td>\n",
       "      <td>-8.267985</td>\n",
       "      <td>1.000021</td>\n",
       "      <td>26.953261</td>\n",
       "    </tr>\n",
       "    <tr>\n",
       "      <th>50%</th>\n",
       "      <td>1.153055</td>\n",
       "      <td>-4.813172</td>\n",
       "      <td>2.011479</td>\n",
       "      <td>57.085625</td>\n",
       "    </tr>\n",
       "    <tr>\n",
       "      <th>75%</th>\n",
       "      <td>8.621015</td>\n",
       "      <td>-1.332816</td>\n",
       "      <td>3.999904</td>\n",
       "      <td>107.813044</td>\n",
       "    </tr>\n",
       "    <tr>\n",
       "      <th>max</th>\n",
       "      <td>29.421755</td>\n",
       "      <td>18.734063</td>\n",
       "      <td>5.019721</td>\n",
       "      <td>137.945408</td>\n",
       "    </tr>\n",
       "  </tbody>\n",
       "</table>\n",
       "</div>"
      ],
      "text/plain": [
       "                  f0             f1             f2        product\n",
       "count  100000.000000  100000.000000  100000.000000  100000.000000\n",
       "mean        1.141296      -4.796579       2.494541      68.825000\n",
       "std         8.965932       5.119872       1.703572      45.944423\n",
       "min       -31.609576     -26.358598      -0.018144       0.000000\n",
       "25%        -6.298551      -8.267985       1.000021      26.953261\n",
       "50%         1.153055      -4.813172       2.011479      57.085625\n",
       "75%         8.621015      -1.332816       3.999904     107.813044\n",
       "max        29.421755      18.734063       5.019721     137.945408"
      ]
     },
     "execution_count": 9,
     "metadata": {},
     "output_type": "execute_result"
    }
   ],
   "source": [
    "data_1.describe()"
   ]
  },
  {
   "cell_type": "code",
   "execution_count": 10,
   "id": "3f88edf2",
   "metadata": {},
   "outputs": [
    {
     "data": {
      "text/html": [
       "<div>\n",
       "<style scoped>\n",
       "    .dataframe tbody tr th:only-of-type {\n",
       "        vertical-align: middle;\n",
       "    }\n",
       "\n",
       "    .dataframe tbody tr th {\n",
       "        vertical-align: top;\n",
       "    }\n",
       "\n",
       "    .dataframe thead th {\n",
       "        text-align: right;\n",
       "    }\n",
       "</style>\n",
       "<table border=\"1\" class=\"dataframe\">\n",
       "  <thead>\n",
       "    <tr style=\"text-align: right;\">\n",
       "      <th></th>\n",
       "      <th>f0</th>\n",
       "      <th>f1</th>\n",
       "      <th>f2</th>\n",
       "      <th>product</th>\n",
       "    </tr>\n",
       "  </thead>\n",
       "  <tbody>\n",
       "    <tr>\n",
       "      <th>count</th>\n",
       "      <td>100000.000000</td>\n",
       "      <td>100000.000000</td>\n",
       "      <td>100000.000000</td>\n",
       "      <td>100000.000000</td>\n",
       "    </tr>\n",
       "    <tr>\n",
       "      <th>mean</th>\n",
       "      <td>0.002023</td>\n",
       "      <td>-0.002081</td>\n",
       "      <td>2.495128</td>\n",
       "      <td>95.000000</td>\n",
       "    </tr>\n",
       "    <tr>\n",
       "      <th>std</th>\n",
       "      <td>1.732045</td>\n",
       "      <td>1.730417</td>\n",
       "      <td>3.473445</td>\n",
       "      <td>44.749921</td>\n",
       "    </tr>\n",
       "    <tr>\n",
       "      <th>min</th>\n",
       "      <td>-8.760004</td>\n",
       "      <td>-7.084020</td>\n",
       "      <td>-11.970335</td>\n",
       "      <td>0.000000</td>\n",
       "    </tr>\n",
       "    <tr>\n",
       "      <th>25%</th>\n",
       "      <td>-1.162288</td>\n",
       "      <td>-1.174820</td>\n",
       "      <td>0.130359</td>\n",
       "      <td>59.450441</td>\n",
       "    </tr>\n",
       "    <tr>\n",
       "      <th>50%</th>\n",
       "      <td>0.009424</td>\n",
       "      <td>-0.009482</td>\n",
       "      <td>2.484236</td>\n",
       "      <td>94.925613</td>\n",
       "    </tr>\n",
       "    <tr>\n",
       "      <th>75%</th>\n",
       "      <td>1.158535</td>\n",
       "      <td>1.163678</td>\n",
       "      <td>4.858794</td>\n",
       "      <td>130.595027</td>\n",
       "    </tr>\n",
       "    <tr>\n",
       "      <th>max</th>\n",
       "      <td>7.238262</td>\n",
       "      <td>7.844801</td>\n",
       "      <td>16.739402</td>\n",
       "      <td>190.029838</td>\n",
       "    </tr>\n",
       "  </tbody>\n",
       "</table>\n",
       "</div>"
      ],
      "text/plain": [
       "                  f0             f1             f2        product\n",
       "count  100000.000000  100000.000000  100000.000000  100000.000000\n",
       "mean        0.002023      -0.002081       2.495128      95.000000\n",
       "std         1.732045       1.730417       3.473445      44.749921\n",
       "min        -8.760004      -7.084020     -11.970335       0.000000\n",
       "25%        -1.162288      -1.174820       0.130359      59.450441\n",
       "50%         0.009424      -0.009482       2.484236      94.925613\n",
       "75%         1.158535       1.163678       4.858794     130.595027\n",
       "max         7.238262       7.844801      16.739402     190.029838"
      ]
     },
     "execution_count": 10,
     "metadata": {},
     "output_type": "execute_result"
    }
   ],
   "source": [
    "data_2.describe()"
   ]
  },
  {
   "cell_type": "code",
   "execution_count": 11,
   "id": "952324ab",
   "metadata": {
    "scrolled": true
   },
   "outputs": [
    {
     "name": "stdout",
     "output_type": "stream",
     "text": [
      "0\n",
      "0\n",
      "0\n"
     ]
    }
   ],
   "source": [
    "#проверяем наличие дубликатов\n",
    "print(data_0.duplicated().sum())\n",
    "print(data_1.duplicated().sum())\n",
    "print(data_2.duplicated().sum())"
   ]
  },
  {
   "cell_type": "code",
   "execution_count": 12,
   "id": "39fb3006",
   "metadata": {},
   "outputs": [
    {
     "name": "stdout",
     "output_type": "stream",
     "text": [
      "10\n",
      "4\n",
      "4\n"
     ]
    }
   ],
   "source": [
    "print(data_0['id'].duplicated().sum())\n",
    "print(data_1['id'].duplicated().sum())\n",
    "print(data_2['id'].duplicated().sum())"
   ]
  },
  {
   "cell_type": "markdown",
   "id": "ae725b12",
   "metadata": {},
   "source": [
    "Видим, что в графе id есть несколько дубликатов. Это повод уточнить у коллег, как могло случиться, что двум скважинам с разными характеристиками присвоен один и тот же id. Если внятного объяснения нет, удалю все дублирующиеся строки."
   ]
  },
  {
   "cell_type": "code",
   "execution_count": 13,
   "id": "7d590538",
   "metadata": {
    "scrolled": true
   },
   "outputs": [
    {
     "data": {
      "text/plain": [
       "''"
      ]
     },
     "execution_count": 13,
     "metadata": {},
     "output_type": "execute_result"
    },
    {
     "data": {
      "image/png": "[encoded data removed]",
      "text/plain": [
       "<Figure size 432x288 with 4 Axes>"
      ]
     },
     "metadata": {
      "needs_background": "light"
     },
     "output_type": "display_data"
    }
   ],
   "source": [
    "\n",
    "data_0.hist(figsize = (6,4))\n",
    ";"
   ]
  },
  {
   "cell_type": "code",
   "execution_count": 14,
   "id": "d7139e7e",
   "metadata": {},
   "outputs": [
    {
     "data": {
      "text/plain": [
       "''"
      ]
     },
     "execution_count": 14,
     "metadata": {},
     "output_type": "execute_result"
    },
    {
     "data": {
      "image/png": "[encoded data removed]",
      "text/plain": [
       "<Figure size 432x288 with 4 Axes>"
      ]
     },
     "metadata": {
      "needs_background": "light"
     },
     "output_type": "display_data"
    }
   ],
   "source": [
    "\n",
    "data_1.hist(figsize = (6,4))\n",
    ";"
   ]
  },
  {
   "cell_type": "code",
   "execution_count": 15,
   "id": "4d4ee059",
   "metadata": {},
   "outputs": [
    {
     "data": {
      "text/plain": [
       "''"
      ]
     },
     "execution_count": 15,
     "metadata": {},
     "output_type": "execute_result"
    },
    {
     "data": {
      "image/png": "[encoded data removed]",
      "text/plain": [
       "<Figure size 432x288 with 4 Axes>"
      ]
     },
     "metadata": {
      "needs_background": "light"
     },
     "output_type": "display_data"
    }
   ],
   "source": [
    "\n",
    "data_2.hist(figsize = (6,4))\n",
    ";"
   ]
  },
  {
   "cell_type": "markdown",
   "id": "2bee9179",
   "metadata": {},
   "source": [
    "Ожидалось увидеть нормальное, или близкое к нормальному распределению, как на графиках для третьего региона.\n",
    "\n",
    "Особенно неожиданное распределение у второго региона. Очень много пустых скважин, и много скважин с большими запасами. А все остальные скважины поровну поделены на остальные значения.\n",
    "\n",
    "Это можно объяснить тем, что предоставленные данные являются синтетическими."
   ]
  },
  {
   "cell_type": "code",
   "execution_count": 16,
   "id": "7708b90b",
   "metadata": {
    "scrolled": false
   },
   "outputs": [
    {
     "data": {
      "text/plain": [
       "<AxesSubplot:>"
      ]
     },
     "execution_count": 16,
     "metadata": {},
     "output_type": "execute_result"
    },
    {
     "data": {
      "image/png": "[encoded data removed]",
      "text/plain": [
       "<Figure size 288x216 with 2 Axes>"
      ]
     },
     "metadata": {},
     "output_type": "display_data"
    }
   ],
   "source": [
    "upp_mat = np.triu(data_0.corr())\n",
    "sns.set(rc = {'figure.figsize':(4,3)})\n",
    "sns.heatmap(data_0.corr(), vmin = -1, vmax = +1, annot = True, cmap = 'coolwarm', mask = upp_mat);"
   ]
  },
  {
   "cell_type": "markdown",
   "id": "b8b2b9b3",
   "metadata": {},
   "source": [
    "Высокой корреляции между признаками не выявлено"
   ]
  },
  {
   "cell_type": "code",
   "execution_count": 17,
   "id": "0117d7a7",
   "metadata": {
    "scrolled": false
   },
   "outputs": [
    {
     "data": {
      "text/plain": [
       "<AxesSubplot:>"
      ]
     },
     "execution_count": 17,
     "metadata": {},
     "output_type": "execute_result"
    },
    {
     "data": {
      "image/png": "[encoded data removed]",
      "text/plain": [
       "<Figure size 288x216 with 2 Axes>"
      ]
     },
     "metadata": {},
     "output_type": "display_data"
    }
   ],
   "source": [
    "upp_mat = np.triu(data_1.corr())\n",
    "sns.set(rc = {'figure.figsize':(4,3)})\n",
    "sns.heatmap(data_1.corr(), vmin = -1, vmax = +1, annot = True, cmap = 'coolwarm', mask = upp_mat);"
   ]
  },
  {
   "cell_type": "markdown",
   "id": "51041c73",
   "metadata": {},
   "source": [
    "Видим очень высокую корреляцию между f2 и product - целквым признаком. Это говорит в пользу точности предсказаний."
   ]
  },
  {
   "cell_type": "code",
   "execution_count": 18,
   "id": "5bbc1be6",
   "metadata": {
    "scrolled": true
   },
   "outputs": [
    {
     "data": {
      "text/plain": [
       "<AxesSubplot:>"
      ]
     },
     "execution_count": 18,
     "metadata": {},
     "output_type": "execute_result"
    },
    {
     "data": {
      "image/png": "[encoded data removed]",
      "text/plain": [
       "<Figure size 288x216 with 2 Axes>"
      ]
     },
     "metadata": {},
     "output_type": "display_data"
    }
   ],
   "source": [
    "upp_mat = np.triu(data_2.corr())\n",
    "sns.set(rc = {'figure.figsize':(4,3)})\n",
    "sns.heatmap(data_2.corr(), vmin = -1, vmax = +1, annot = True, cmap = 'coolwarm', mask = upp_mat);"
   ]
  },
  {
   "cell_type": "markdown",
   "id": "989c68c9",
   "metadata": {},
   "source": [
    "Корреляции между признаками также нет.\n",
    "\n",
    "Значит, продолжаем работу со всем объемом даных"
   ]
  },
  {
   "cell_type": "markdown",
   "id": "60348328",
   "metadata": {},
   "source": [
    "## 2. Обучим и проверим модель для каждого региона\n",
    "Разобьем данные на обучающую и валидационную выборки в соотношении 75:25.\n",
    "\n",
    "Обучим модель и сделаем предсказания на валидационной выборке.\n",
    "\n",
    "Сохраним предсказания и правильные ответы на валидационной выборке.\n",
    "\n",
    "Напечатаем на экране средний запас предсказанного сырья и RMSE модели.\n",
    "\n",
    "Проанализируем результаты."
   ]
  },
  {
   "cell_type": "code",
   "execution_count": 19,
   "id": "9e4a227b",
   "metadata": {},
   "outputs": [],
   "source": [
    "def spliter(data):\n",
    "    # делим на признаки и результат\n",
    "    features = data.drop(['product', 'id'], axis=1)\n",
    "    target = data['product']\n",
    "    # делим на треинровочную и валидационную выборку в соотношении 75:25\n",
    "    features_train, features_valid, target_train, target_valid = train_test_split(features,\n",
    "                                                                             target,test_size=0.25, \n",
    "                                                                             random_state=12345)\n",
    "    return features_train, features_valid, target_train, target_valid\n"
   ]
  },
  {
   "cell_type": "markdown",
   "id": "943a029d",
   "metadata": {},
   "source": [
    "Удаляем из признков id - это уникальный иджентификатор, эта колонка не несет никакого смысла для обучения."
   ]
  },
  {
   "cell_type": "code",
   "execution_count": 20,
   "id": "17ab7333",
   "metadata": {},
   "outputs": [
    {
     "name": "stdout",
     "output_type": "stream",
     "text": [
      "(75000, 3)\n",
      "(25000, 3)\n",
      "(75000,)\n",
      "(25000,)\n"
     ]
    }
   ],
   "source": [
    "# для первого региона\n",
    "features_train_0, features_valid_0, target_train_0, target_valid_0 = spliter(data_0)\n",
    "print(features_train_0.shape)\n",
    "print(features_valid_0.shape)\n",
    "print(target_train_0.shape)\n",
    "print(target_valid_0.shape)"
   ]
  },
  {
   "cell_type": "code",
   "execution_count": 21,
   "id": "9288b895",
   "metadata": {},
   "outputs": [
    {
     "name": "stdout",
     "output_type": "stream",
     "text": [
      "(75000, 3)\n",
      "(25000, 3)\n",
      "(75000,)\n",
      "(25000,)\n"
     ]
    }
   ],
   "source": [
    "features_train_1, features_valid_1, target_train_1, target_valid_1 = spliter(data_1)\n",
    "print(features_train_1.shape)\n",
    "print(features_valid_1.shape)\n",
    "print(target_train_1.shape)\n",
    "print(target_valid_1.shape)"
   ]
  },
  {
   "cell_type": "code",
   "execution_count": 22,
   "id": "0035dbeb",
   "metadata": {},
   "outputs": [
    {
     "name": "stdout",
     "output_type": "stream",
     "text": [
      "(75000, 3)\n",
      "(25000, 3)\n",
      "(75000,)\n",
      "(25000,)\n"
     ]
    }
   ],
   "source": [
    "features_train_2, features_valid_2, target_train_2, target_valid_2 = spliter(data_2)\n",
    "print(features_train_2.shape)\n",
    "print(features_valid_2.shape)\n",
    "print(target_train_2.shape)\n",
    "print(target_valid_2.shape)"
   ]
  },
  {
   "cell_type": "markdown",
   "id": "81692cfd",
   "metadata": {},
   "source": [
    "Проверка показала, что выборки разделены корректно"
   ]
  },
  {
   "cell_type": "code",
   "execution_count": 23,
   "id": "c8b5575f",
   "metadata": {},
   "outputs": [],
   "source": [
    "def regressor(features_train, target_train, features_valid, target_valid):\n",
    "    model = LinearRegression()\n",
    "    model.fit(features_train, target_train)\n",
    "    predictions_valid = pd.Series(model.predict(features_valid), index=features_valid.index)\n",
    "    rmse = (mean_squared_error(target_valid, predictions_valid))**0.5\n",
    "    return (predictions_valid, predictions_valid.mean(), rmse)\n"
   ]
  },
  {
   "cell_type": "markdown",
   "id": "a7a53a1d",
   "metadata": {},
   "source": [
    "Используем индексы признаков, чтобы предсказания соответствовали таргету."
   ]
  },
  {
   "cell_type": "code",
   "execution_count": 24,
   "id": "72f746fa",
   "metadata": {
    "scrolled": false
   },
   "outputs": [
    {
     "name": "stdout",
     "output_type": "stream",
     "text": [
      "Для первой модели:\n",
      "Средний запас предсказанного сырья: 92.59256778438035\n",
      "RMSE модели: 37.5794217150813\n",
      "\n",
      "Для второй модели:\n",
      "Средний запас предсказанного сырья: 68.728546895446\n",
      "RMSE модели: 0.893099286775617\n",
      "\n",
      "Для третьей модели:\n",
      "Средний запас предсказанного сырья: 94.96504596800489\n",
      "RMSE модели: 40.02970873393434\n"
     ]
    }
   ],
   "source": [
    "predicted_valid_0,mean_0, rmse_0 = regressor(features_train_0, target_train_0, features_valid_0, target_valid_0)\n",
    "predicted_valid_1,mean_1, rmse_1 = regressor(features_train_1, target_train_1, features_valid_1, target_valid_1)\n",
    "predicted_valid_2,mean_2, rmse_2 = regressor(features_train_2, target_train_2, features_valid_2, target_valid_2)\n",
    "\n",
    "\n",
    "print('Для первой модели:')\n",
    "print('Средний запас предсказанного сырья:', mean_0)\n",
    "print('RMSE модели:', rmse_0)\n",
    "print()\n",
    "print('Для второй модели:')\n",
    "print('Средний запас предсказанного сырья:', mean_1)\n",
    "print('RMSE модели:', rmse_1)\n",
    "print()\n",
    "print('Для третьей модели:')\n",
    "print('Средний запас предсказанного сырья:', mean_2)\n",
    "print('RMSE модели:', rmse_2)\n"
   ]
  },
  {
   "cell_type": "markdown",
   "id": "13073191",
   "metadata": {},
   "source": [
    "Чем RMSE меньше, тем удачнее можно считать модель. По этому признаку вторая модель получилось самой удачной"
   ]
  },
  {
   "cell_type": "markdown",
   "id": "8a99b8f4",
   "metadata": {},
   "source": [
    "## 3. Подготовимся к расчёту прибыли:"
   ]
  },
  {
   "cell_type": "code",
   "execution_count": 25,
   "id": "a4f6cb5f",
   "metadata": {
    "scrolled": true
   },
   "outputs": [
    {
     "name": "stdout",
     "output_type": "stream",
     "text": [
      "Объем сырья, достаточный для безубыточной разработки новой скважины:  111.11111111111111\n"
     ]
    }
   ],
   "source": [
    "# посчитаем бюджет на одну скважину\n",
    "well_budget = REGION_BUDGET/NUMBER_OF_WELLS\n",
    "# Объем сырья безубыточной скважины\n",
    "volume_of_materials = well_budget/INCOME_PER_UNIT\n",
    "print('Объем сырья, достаточный для безубыточной разработки новой скважины: ', volume_of_materials)"
   ]
  },
  {
   "cell_type": "code",
   "execution_count": 26,
   "id": "cb20e59f",
   "metadata": {},
   "outputs": [
    {
     "name": "stdout",
     "output_type": "stream",
     "text": [
      "92.50000000000001\n",
      "68.82500000000002\n",
      "95.00000000000004\n"
     ]
    }
   ],
   "source": [
    "print(data_0['product'].mean())\n",
    "print(data_1['product'].mean())\n",
    "print(data_2['product'].mean())"
   ]
  },
  {
   "cell_type": "markdown",
   "id": "ad99276d",
   "metadata": {},
   "source": [
    "Теперь мы знаем, сколько нефти должно быть в скважине, чтоб \"выйти в ноль\""
   ]
  },
  {
   "cell_type": "markdown",
   "id": "9f518de6",
   "metadata": {},
   "source": [
    "Во всех трех регионах средний объем сырья меньше достаточного объема для безубыточности. Техника \"Bootstrap\" позволяет оценить риск убытков при случайном отборе точек."
   ]
  },
  {
   "cell_type": "markdown",
   "id": "99514260",
   "metadata": {},
   "source": [
    "## 4. Напишем функцию для расчёта прибыли по выбранным скважинам и предсказаниям модели:\n",
    " "
   ]
  },
  {
   "cell_type": "code",
   "execution_count": 27,
   "id": "737727ec",
   "metadata": {},
   "outputs": [],
   "source": [
    "def profit(target, predictions):\n",
    "    predictions_sorted = predictions.sort_values(ascending=False)\n",
    "    selected = target[predictions_sorted.index][:200]\n",
    "    return INCOME_PER_UNIT*selected.sum() - REGION_BUDGET"
   ]
  },
  {
   "cell_type": "markdown",
   "id": "f62ca2a2",
   "metadata": {},
   "source": [
    "<div class=\"alert alert-block alert-success\"><b>Комментарий ревьюера </b>\n",
    "    \n",
    "<b>Успех:</b><br>\n",
    "👍 Функция в порядке.\n",
    "</div>"
   ]
  },
  {
   "cell_type": "code",
   "execution_count": 28,
   "id": "ed809e27",
   "metadata": {
    "scrolled": true
   },
   "outputs": [
    {
     "name": "stdout",
     "output_type": "stream",
     "text": [
      "Прибыль для первого региона: 3.3 млрд\n",
      "Прибыль для второго региона: 2.4 млрд\n",
      "Прибыль для третьего региона: 2.7 млрд\n"
     ]
    }
   ],
   "source": [
    "profit_0 = profit(target_valid_0, predicted_valid_0)\n",
    "profit_1 = profit(target_valid_1, predicted_valid_1)\n",
    "profit_2 = profit(target_valid_2, predicted_valid_2)\n",
    "print('Прибыль для первого региона:', (profit_0/1_000_000_000).round(1), 'млрд')\n",
    "print('Прибыль для второго региона:', (profit_1/1_000_000_000).round(1), 'млрд')\n",
    "print('Прибыль для третьего региона:', (profit_2/1_000_000_000).round(1), 'млрд')"
   ]
  },
  {
   "cell_type": "markdown",
   "id": "7998d625",
   "metadata": {},
   "source": [
    "Рассчетная прибыль для первого региона выше других"
   ]
  },
  {
   "cell_type": "markdown",
   "id": "a8952d52",
   "metadata": {},
   "source": [
    "<div class=\"alert alert-block alert-success\"><b>Комментарий ревьюера </b><br>\n",
    "    \n",
    " Было бы здорово знать заранее 200 лучших скважин:)\n",
    "</div>"
   ]
  },
  {
   "cell_type": "markdown",
   "id": "88238d92",
   "metadata": {},
   "source": [
    "## 5 Посчитаем риски и прибыль для каждого региона:\n",
    "Применим технику Bootstrap с 1000 выборок, чтобы найти распределение прибыли.\n",
    "\n",
    "Найдем среднюю прибыль, 95%-й доверительный интервал и риск убытков.\n",
    "\n",
    "Выберем регион для разработки скважин."
   ]
  },
  {
   "cell_type": "markdown",
   "id": "d81f1fba",
   "metadata": {},
   "source": [
    "При разведке региона исследуют 500 точек, из которых с помощью машинного обучения выбирают 200 лучших для разработки. Бюджет на разработку скважин в регионе — 10 млрд рублей. При нынешних ценах один баррель сырья приносит 450 рублей дохода. Доход с каждой единицы продукта составляет 450 тыс. рублей, поскольку объём указан в тысячах баррелей. После оценки рисков нужно оставить лишь те регионы, в которых вероятность убытков меньше 2.5%. Среди них выбирают регион с наибольшей средней прибылью."
   ]
  },
  {
   "cell_type": "code",
   "execution_count": 29,
   "id": "ceabf10b",
   "metadata": {
    "scrolled": true
   },
   "outputs": [],
   "source": [
    "def bootstrap(predictions, target):\n",
    "    state = np.random.RandomState(12345)\n",
    "    values = []\n",
    "    \n",
    "    for i in range(1000):\n",
    "        subsample = target.sample(n= 500, replace=True, random_state=state)\n",
    "        subs_predictions = predictions[subsample.index]\n",
    "        values.append(profit(subs_predictions,subsample))\n",
    "    values = pd.Series(values)\n",
    "    return values     "
   ]
  },
  {
   "cell_type": "code",
   "execution_count": 30,
   "id": "4e52cfaf",
   "metadata": {},
   "outputs": [],
   "source": [
    "region_0 = bootstrap(target_valid_0,predicted_valid_0)\n",
    "region_1 = bootstrap(target_valid_1,predicted_valid_1)\n",
    "region_2 = bootstrap(target_valid_2,predicted_valid_2)"
   ]
  },
  {
   "cell_type": "code",
   "execution_count": 31,
   "id": "f4f14f0a",
   "metadata": {},
   "outputs": [
    {
     "name": "stdout",
     "output_type": "stream",
     "text": [
      "Средняя прибыль, млрд:\n",
      "Первый регион: 0.4259385269105924\n",
      "Второй регион: 0.5152227734432899\n",
      "Третий регион: 0.4350083627827556\n"
     ]
    }
   ],
   "source": [
    "print('Средняя прибыль, млрд:')\n",
    "print('Первый регион:',region_0.mean()/1_000_000_000)\n",
    "print('Второй регион:',region_1.mean()/1_000_000_000)\n",
    "print('Третий регион:',region_2.mean()/1_000_000_000)"
   ]
  },
  {
   "cell_type": "code",
   "execution_count": 32,
   "id": "58537c31",
   "metadata": {},
   "outputs": [
    {
     "name": "stdout",
     "output_type": "stream",
     "text": [
      "Доверительный интервал:\n",
      "\n",
      "-102090094.83793654\n",
      "947976353.3583689\n",
      "\n",
      "68873225.37050176\n",
      "931547591.2570494\n",
      "\n",
      "-128880547.32978901\n",
      "969706954.1802661\n"
     ]
    }
   ],
   "source": [
    "print('Доверительный интервал:')\n",
    "# print('Первый регион:', st.t.interval(0.95, len(region_0)-1,region_0.mean(), region_0.sem()))\n",
    "# print('Второй регион:', st.t.interval(0.95, len(region_1)-1,region_1.mean(), region_1.sem()))\n",
    "# print('Третий регион:', st.t.interval(0.95, len(region_2)-1,region_2.mean(), region_2.sem()))\n",
    "regions = [region_0, region_1, region_2]\n",
    "for i in regions:\n",
    "    print('')\n",
    "    print(i.quantile(0.025))\n",
    "    print(i.quantile(0.975))"
   ]
  },
  {
   "cell_type": "markdown",
   "id": "5593b690",
   "metadata": {},
   "source": [
    "<div class=\"alert alert-block alert-info\"><b>Комментарий студента</b>\n",
    "    \n",
    "Есть, поправила границы доверительного интервала <br></div> "
   ]
  },
  {
   "cell_type": "code",
   "execution_count": 33,
   "id": "c7f0ec1c",
   "metadata": {},
   "outputs": [],
   "source": [
    "def risk_of_loss(values):\n",
    "    return (values<0).sum()/values.count()"
   ]
  },
  {
   "cell_type": "code",
   "execution_count": 34,
   "id": "139ee92f",
   "metadata": {},
   "outputs": [
    {
     "name": "stdout",
     "output_type": "stream",
     "text": [
      "Риск убытков:\n",
      "0.06\n",
      "0.01\n",
      "0.064\n"
     ]
    }
   ],
   "source": [
    "print('Риск убытков:')\n",
    "print(risk_of_loss(region_0))\n",
    "print(risk_of_loss(region_1))\n",
    "print(risk_of_loss(region_2))"
   ]
  },
  {
   "cell_type": "markdown",
   "id": "db82f5cf",
   "metadata": {},
   "source": [
    "Во втором регионе риск убытков 1% , что меньше заданного порога.\n",
    "Таким образом, можно рекомендовать для разработки скважин именно его."
   ]
  }
 ],
 "metadata": {
  "ExecuteTimeLog": [
   {
    "duration": 1654,
    "start_time": "2023-01-11T17:46:52.908Z"
   },
   {
    "duration": 2,
    "start_time": "2023-01-11T17:46:54.564Z"
   },
   {
    "duration": 1720,
    "start_time": "2023-01-11T17:46:54.568Z"
   },
   {
    "duration": 17,
    "start_time": "2023-01-11T17:46:56.290Z"
   },
   {
    "duration": 58,
    "start_time": "2023-01-11T17:46:56.309Z"
   },
   {
    "duration": 43,
    "start_time": "2023-01-11T17:46:56.368Z"
   },
   {
    "duration": 68,
    "start_time": "2023-01-11T17:46:56.412Z"
   },
   {
    "duration": 34,
    "start_time": "2023-01-11T17:46:56.482Z"
   },
   {
    "duration": 160,
    "start_time": "2023-01-11T17:46:56.518Z"
   },
   {
    "duration": 4,
    "start_time": "2023-01-11T17:46:56.679Z"
   },
   {
    "duration": 35,
    "start_time": "2023-01-11T17:46:56.684Z"
   },
   {
    "duration": 27,
    "start_time": "2023-01-11T17:46:56.721Z"
   },
   {
    "duration": 29,
    "start_time": "2023-01-11T17:46:56.750Z"
   },
   {
    "duration": 9,
    "start_time": "2023-01-11T17:46:56.783Z"
   },
   {
    "duration": 189,
    "start_time": "2023-01-11T17:46:56.794Z"
   },
   {
    "duration": 96,
    "start_time": "2023-01-11T17:46:56.985Z"
   },
   {
    "duration": 105,
    "start_time": "2023-01-11T17:46:57.083Z"
   },
   {
    "duration": 32,
    "start_time": "2023-01-11T17:46:57.190Z"
   },
   {
    "duration": 3,
    "start_time": "2023-01-11T17:46:57.224Z"
   },
   {
    "duration": 3963,
    "start_time": "2023-01-11T17:46:57.229Z"
   },
   {
    "duration": 6,
    "start_time": "2023-01-11T17:47:01.194Z"
   },
   {
    "duration": 27,
    "start_time": "2023-01-11T17:47:01.202Z"
   },
   {
    "duration": 11,
    "start_time": "2023-01-11T17:47:01.230Z"
   },
   {
    "duration": 22,
    "start_time": "2023-01-11T17:47:01.243Z"
   },
   {
    "duration": 1972,
    "start_time": "2023-01-13T17:45:41.684Z"
   },
   {
    "duration": 2,
    "start_time": "2023-01-13T17:45:43.658Z"
   },
   {
    "duration": 435,
    "start_time": "2023-01-13T17:45:43.662Z"
   },
   {
    "duration": 2,
    "start_time": "2023-01-13T17:45:44.100Z"
   },
   {
    "duration": 32,
    "start_time": "2023-01-13T17:45:44.103Z"
   },
   {
    "duration": 4,
    "start_time": "2023-01-13T17:45:44.137Z"
   },
   {
    "duration": 41,
    "start_time": "2023-01-13T17:45:44.142Z"
   },
   {
    "duration": 67,
    "start_time": "2023-01-13T17:45:44.184Z"
   },
   {
    "duration": 40,
    "start_time": "2023-01-13T17:45:44.253Z"
   },
   {
    "duration": 57,
    "start_time": "2023-01-13T17:45:44.296Z"
   },
   {
    "duration": 136,
    "start_time": "2023-01-13T17:45:44.355Z"
   },
   {
    "duration": 54,
    "start_time": "2023-01-13T17:45:44.493Z"
   },
   {
    "duration": 380,
    "start_time": "2023-01-13T17:45:44.549Z"
   },
   {
    "duration": 375,
    "start_time": "2023-01-13T17:45:44.931Z"
   },
   {
    "duration": 446,
    "start_time": "2023-01-13T17:45:45.308Z"
   },
   {
    "duration": 309,
    "start_time": "2023-01-13T17:45:45.756Z"
   },
   {
    "duration": 305,
    "start_time": "2023-01-13T17:45:46.067Z"
   },
   {
    "duration": 317,
    "start_time": "2023-01-13T17:45:46.374Z"
   },
   {
    "duration": 4,
    "start_time": "2023-01-13T17:45:46.694Z"
   },
   {
    "duration": 26,
    "start_time": "2023-01-13T17:45:46.700Z"
   },
   {
    "duration": 31,
    "start_time": "2023-01-13T17:45:46.735Z"
   },
   {
    "duration": 19,
    "start_time": "2023-01-13T17:45:46.768Z"
   },
   {
    "duration": 7,
    "start_time": "2023-01-13T17:45:46.789Z"
   },
   {
    "duration": 143,
    "start_time": "2023-01-13T17:45:46.798Z"
   },
   {
    "duration": 94,
    "start_time": "2023-01-13T17:45:46.944Z"
   },
   {
    "duration": 22,
    "start_time": "2023-01-13T17:45:47.039Z"
   },
   {
    "duration": 16,
    "start_time": "2023-01-13T17:45:47.063Z"
   },
   {
    "duration": 69,
    "start_time": "2023-01-13T17:45:47.083Z"
   },
   {
    "duration": 3,
    "start_time": "2023-01-13T17:45:47.154Z"
   },
   {
    "duration": 4170,
    "start_time": "2023-01-13T17:45:47.159Z"
   },
   {
    "duration": 7,
    "start_time": "2023-01-13T17:45:51.331Z"
   },
   {
    "duration": 21,
    "start_time": "2023-01-13T17:45:51.340Z"
   },
   {
    "duration": 13,
    "start_time": "2023-01-13T17:45:51.362Z"
   },
   {
    "duration": 23,
    "start_time": "2023-01-13T17:45:51.377Z"
   }
  ],
  "kernelspec": {
   "display_name": "Python 3 (ipykernel)",
   "language": "python",
   "name": "python3"
  },
  "language_info": {
   "codemirror_mode": {
    "name": "ipython",
    "version": 3
   },
   "file_extension": ".py",
   "mimetype": "text/x-python",
   "name": "python",
   "nbconvert_exporter": "python",
   "pygments_lexer": "ipython3",
   "version": "3.9.16"
  },
  "toc": {
   "base_numbering": 1,
   "nav_menu": {},
   "number_sections": true,
   "sideBar": true,
   "skip_h1_title": true,
   "title_cell": "Table of Contents",
   "title_sidebar": "Contents",
   "toc_cell": false,
   "toc_position": {},
   "toc_section_display": true,
   "toc_window_display": true
  }
 },
 "nbformat": 4,
 "nbformat_minor": 5
}
