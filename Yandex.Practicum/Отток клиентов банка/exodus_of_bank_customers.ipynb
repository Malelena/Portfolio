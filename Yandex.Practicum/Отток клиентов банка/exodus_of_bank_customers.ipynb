{
 "cells": [
  {
   "cell_type": "markdown",
   "id": "2c865410",
   "metadata": {},
   "source": [
    "Из «Бета-Банка» стали уходить клиенты. Каждый месяц. Немного, но заметно. Банковские маркетологи посчитали: сохранять текущих клиентов дешевле, чем привлекать новых.\n",
    "Нужно спрогнозировать, уйдёт клиент из банка в ближайшее время или нет. Нам предоставлены исторические данные о поведении клиентов и расторжении договоров с банком.\n"
   ]
  },
  {
   "cell_type": "code",
   "execution_count": 1,
   "id": "431351e2",
   "metadata": {},
   "outputs": [],
   "source": [
    "import pandas as pd\n",
    "import sklearn \n",
    "from sklearn.model_selection import train_test_split\n",
    "from sklearn.metrics import accuracy_score\n",
    "from sklearn.tree import DecisionTreeClassifier\n",
    "from sklearn.ensemble import RandomForestClassifier\n",
    "from sklearn.linear_model import LogisticRegression\n",
    "from sklearn.metrics import f1_score\n",
    "from sklearn.metrics import roc_auc_score\n",
    "from sklearn.preprocessing import OrdinalEncoder\n",
    "from sklearn.model_selection import GridSearchCV\n",
    "from sklearn.utils import shuffle\n",
    "from sklearn.preprocessing import OneHotEncoder\n",
    "from sklearn.preprocessing import StandardScaler\n",
    "from sklearn.dummy import DummyClassifier\n",
    "from sklearn.metrics import roc_curve\n",
    "import matplotlib.pyplot as plt \n"
   ]
  },
  {
   "cell_type": "markdown",
   "id": "2117e106",
   "metadata": {},
   "source": [
    "## 1 Исследуем данные"
   ]
  },
  {
   "cell_type": "code",
   "execution_count": 2,
   "id": "1a319500",
   "metadata": {},
   "outputs": [
    {
     "data": {
      "text/html": [
       "<div>\n",
       "<style scoped>\n",
       "    .dataframe tbody tr th:only-of-type {\n",
       "        vertical-align: middle;\n",
       "    }\n",
       "\n",
       "    .dataframe tbody tr th {\n",
       "        vertical-align: top;\n",
       "    }\n",
       "\n",
       "    .dataframe thead th {\n",
       "        text-align: right;\n",
       "    }\n",
       "</style>\n",
       "<table border=\"1\" class=\"dataframe\">\n",
       "  <thead>\n",
       "    <tr style=\"text-align: right;\">\n",
       "      <th></th>\n",
       "      <th>RowNumber</th>\n",
       "      <th>CustomerId</th>\n",
       "      <th>Surname</th>\n",
       "      <th>CreditScore</th>\n",
       "      <th>Geography</th>\n",
       "      <th>Gender</th>\n",
       "      <th>Age</th>\n",
       "      <th>Tenure</th>\n",
       "      <th>Balance</th>\n",
       "      <th>NumOfProducts</th>\n",
       "      <th>HasCrCard</th>\n",
       "      <th>IsActiveMember</th>\n",
       "      <th>EstimatedSalary</th>\n",
       "      <th>Exited</th>\n",
       "    </tr>\n",
       "  </thead>\n",
       "  <tbody>\n",
       "    <tr>\n",
       "      <th>89</th>\n",
       "      <td>90</td>\n",
       "      <td>15767954</td>\n",
       "      <td>Osborne</td>\n",
       "      <td>635</td>\n",
       "      <td>Germany</td>\n",
       "      <td>Female</td>\n",
       "      <td>28</td>\n",
       "      <td>3.0</td>\n",
       "      <td>81623.67</td>\n",
       "      <td>2</td>\n",
       "      <td>1</td>\n",
       "      <td>1</td>\n",
       "      <td>156791.36</td>\n",
       "      <td>0</td>\n",
       "    </tr>\n",
       "    <tr>\n",
       "      <th>7951</th>\n",
       "      <td>7952</td>\n",
       "      <td>15644699</td>\n",
       "      <td>Crawford</td>\n",
       "      <td>850</td>\n",
       "      <td>France</td>\n",
       "      <td>Female</td>\n",
       "      <td>40</td>\n",
       "      <td>0.0</td>\n",
       "      <td>0.00</td>\n",
       "      <td>2</td>\n",
       "      <td>1</td>\n",
       "      <td>0</td>\n",
       "      <td>1099.95</td>\n",
       "      <td>0</td>\n",
       "    </tr>\n",
       "    <tr>\n",
       "      <th>9706</th>\n",
       "      <td>9707</td>\n",
       "      <td>15754926</td>\n",
       "      <td>Lucchesi</td>\n",
       "      <td>512</td>\n",
       "      <td>France</td>\n",
       "      <td>Female</td>\n",
       "      <td>30</td>\n",
       "      <td>6.0</td>\n",
       "      <td>0.00</td>\n",
       "      <td>2</td>\n",
       "      <td>1</td>\n",
       "      <td>0</td>\n",
       "      <td>88827.31</td>\n",
       "      <td>0</td>\n",
       "    </tr>\n",
       "    <tr>\n",
       "      <th>4413</th>\n",
       "      <td>4414</td>\n",
       "      <td>15596575</td>\n",
       "      <td>Vale</td>\n",
       "      <td>615</td>\n",
       "      <td>Germany</td>\n",
       "      <td>Male</td>\n",
       "      <td>39</td>\n",
       "      <td>5.0</td>\n",
       "      <td>113193.51</td>\n",
       "      <td>2</td>\n",
       "      <td>1</td>\n",
       "      <td>1</td>\n",
       "      <td>52166.25</td>\n",
       "      <td>0</td>\n",
       "    </tr>\n",
       "    <tr>\n",
       "      <th>165</th>\n",
       "      <td>166</td>\n",
       "      <td>15585388</td>\n",
       "      <td>Sherman</td>\n",
       "      <td>660</td>\n",
       "      <td>Germany</td>\n",
       "      <td>Male</td>\n",
       "      <td>31</td>\n",
       "      <td>9.0</td>\n",
       "      <td>125189.75</td>\n",
       "      <td>2</td>\n",
       "      <td>1</td>\n",
       "      <td>1</td>\n",
       "      <td>139874.43</td>\n",
       "      <td>0</td>\n",
       "    </tr>\n",
       "    <tr>\n",
       "      <th>6351</th>\n",
       "      <td>6352</td>\n",
       "      <td>15794472</td>\n",
       "      <td>Brookes</td>\n",
       "      <td>553</td>\n",
       "      <td>France</td>\n",
       "      <td>Female</td>\n",
       "      <td>27</td>\n",
       "      <td>3.0</td>\n",
       "      <td>0.00</td>\n",
       "      <td>2</td>\n",
       "      <td>0</td>\n",
       "      <td>0</td>\n",
       "      <td>159800.16</td>\n",
       "      <td>0</td>\n",
       "    </tr>\n",
       "    <tr>\n",
       "      <th>3794</th>\n",
       "      <td>3795</td>\n",
       "      <td>15621409</td>\n",
       "      <td>Endrizzi</td>\n",
       "      <td>496</td>\n",
       "      <td>France</td>\n",
       "      <td>Male</td>\n",
       "      <td>32</td>\n",
       "      <td>4.0</td>\n",
       "      <td>127845.83</td>\n",
       "      <td>1</td>\n",
       "      <td>1</td>\n",
       "      <td>0</td>\n",
       "      <td>66469.20</td>\n",
       "      <td>0</td>\n",
       "    </tr>\n",
       "    <tr>\n",
       "      <th>8648</th>\n",
       "      <td>8649</td>\n",
       "      <td>15683053</td>\n",
       "      <td>Reyna</td>\n",
       "      <td>809</td>\n",
       "      <td>Spain</td>\n",
       "      <td>Female</td>\n",
       "      <td>48</td>\n",
       "      <td>2.0</td>\n",
       "      <td>0.00</td>\n",
       "      <td>1</td>\n",
       "      <td>1</td>\n",
       "      <td>0</td>\n",
       "      <td>160976.85</td>\n",
       "      <td>1</td>\n",
       "    </tr>\n",
       "    <tr>\n",
       "      <th>2984</th>\n",
       "      <td>2985</td>\n",
       "      <td>15694946</td>\n",
       "      <td>Hanson</td>\n",
       "      <td>663</td>\n",
       "      <td>France</td>\n",
       "      <td>Male</td>\n",
       "      <td>35</td>\n",
       "      <td>9.0</td>\n",
       "      <td>0.00</td>\n",
       "      <td>2</td>\n",
       "      <td>1</td>\n",
       "      <td>1</td>\n",
       "      <td>195580.28</td>\n",
       "      <td>0</td>\n",
       "    </tr>\n",
       "    <tr>\n",
       "      <th>6953</th>\n",
       "      <td>6954</td>\n",
       "      <td>15579109</td>\n",
       "      <td>Napolitano</td>\n",
       "      <td>574</td>\n",
       "      <td>Germany</td>\n",
       "      <td>Male</td>\n",
       "      <td>35</td>\n",
       "      <td>NaN</td>\n",
       "      <td>163856.76</td>\n",
       "      <td>1</td>\n",
       "      <td>1</td>\n",
       "      <td>1</td>\n",
       "      <td>15118.20</td>\n",
       "      <td>0</td>\n",
       "    </tr>\n",
       "  </tbody>\n",
       "</table>\n",
       "</div>"
      ],
      "text/plain": [
       "      RowNumber  CustomerId     Surname  CreditScore Geography  Gender  Age  \\\n",
       "89           90    15767954     Osborne          635   Germany  Female   28   \n",
       "7951       7952    15644699    Crawford          850    France  Female   40   \n",
       "9706       9707    15754926    Lucchesi          512    France  Female   30   \n",
       "4413       4414    15596575        Vale          615   Germany    Male   39   \n",
       "165         166    15585388     Sherman          660   Germany    Male   31   \n",
       "6351       6352    15794472     Brookes          553    France  Female   27   \n",
       "3794       3795    15621409    Endrizzi          496    France    Male   32   \n",
       "8648       8649    15683053       Reyna          809     Spain  Female   48   \n",
       "2984       2985    15694946      Hanson          663    France    Male   35   \n",
       "6953       6954    15579109  Napolitano          574   Germany    Male   35   \n",
       "\n",
       "      Tenure    Balance  NumOfProducts  HasCrCard  IsActiveMember  \\\n",
       "89       3.0   81623.67              2          1               1   \n",
       "7951     0.0       0.00              2          1               0   \n",
       "9706     6.0       0.00              2          1               0   \n",
       "4413     5.0  113193.51              2          1               1   \n",
       "165      9.0  125189.75              2          1               1   \n",
       "6351     3.0       0.00              2          0               0   \n",
       "3794     4.0  127845.83              1          1               0   \n",
       "8648     2.0       0.00              1          1               0   \n",
       "2984     9.0       0.00              2          1               1   \n",
       "6953     NaN  163856.76              1          1               1   \n",
       "\n",
       "      EstimatedSalary  Exited  \n",
       "89          156791.36       0  \n",
       "7951          1099.95       0  \n",
       "9706         88827.31       0  \n",
       "4413         52166.25       0  \n",
       "165         139874.43       0  \n",
       "6351        159800.16       0  \n",
       "3794         66469.20       0  \n",
       "8648        160976.85       1  \n",
       "2984        195580.28       0  \n",
       "6953         15118.20       0  "
      ]
     },
     "execution_count": 2,
     "metadata": {},
     "output_type": "execute_result"
    }
   ],
   "source": [
    "try:\n",
    "    data = pd.read_csv('/Users/admin/Downloads/Churn.csv')\n",
    "except:\n",
    "    data = pd.read_csv('/datasets/Churn.csv')\n",
    "    \n",
    "data.sample(10)"
   ]
  },
  {
   "cell_type": "code",
   "execution_count": 3,
   "id": "584fcac1",
   "metadata": {},
   "outputs": [
    {
     "name": "stdout",
     "output_type": "stream",
     "text": [
      "<class 'pandas.core.frame.DataFrame'>\n",
      "RangeIndex: 10000 entries, 0 to 9999\n",
      "Data columns (total 14 columns):\n",
      " #   Column           Non-Null Count  Dtype  \n",
      "---  ------           --------------  -----  \n",
      " 0   RowNumber        10000 non-null  int64  \n",
      " 1   CustomerId       10000 non-null  int64  \n",
      " 2   Surname          10000 non-null  object \n",
      " 3   CreditScore      10000 non-null  int64  \n",
      " 4   Geography        10000 non-null  object \n",
      " 5   Gender           10000 non-null  object \n",
      " 6   Age              10000 non-null  int64  \n",
      " 7   Tenure           9091 non-null   float64\n",
      " 8   Balance          10000 non-null  float64\n",
      " 9   NumOfProducts    10000 non-null  int64  \n",
      " 10  HasCrCard        10000 non-null  int64  \n",
      " 11  IsActiveMember   10000 non-null  int64  \n",
      " 12  EstimatedSalary  10000 non-null  float64\n",
      " 13  Exited           10000 non-null  int64  \n",
      "dtypes: float64(3), int64(8), object(3)\n",
      "memory usage: 1.1+ MB\n"
     ]
    }
   ],
   "source": [
    "data.info()"
   ]
  },
  {
   "cell_type": "code",
   "execution_count": 4,
   "id": "57d8c576",
   "metadata": {},
   "outputs": [
    {
     "data": {
      "text/html": [
       "<div>\n",
       "<style scoped>\n",
       "    .dataframe tbody tr th:only-of-type {\n",
       "        vertical-align: middle;\n",
       "    }\n",
       "\n",
       "    .dataframe tbody tr th {\n",
       "        vertical-align: top;\n",
       "    }\n",
       "\n",
       "    .dataframe thead th {\n",
       "        text-align: right;\n",
       "    }\n",
       "</style>\n",
       "<table border=\"1\" class=\"dataframe\">\n",
       "  <thead>\n",
       "    <tr style=\"text-align: right;\">\n",
       "      <th></th>\n",
       "      <th>RowNumber</th>\n",
       "      <th>CustomerId</th>\n",
       "      <th>CreditScore</th>\n",
       "      <th>Age</th>\n",
       "      <th>Tenure</th>\n",
       "      <th>Balance</th>\n",
       "      <th>NumOfProducts</th>\n",
       "      <th>HasCrCard</th>\n",
       "      <th>IsActiveMember</th>\n",
       "      <th>EstimatedSalary</th>\n",
       "      <th>Exited</th>\n",
       "    </tr>\n",
       "  </thead>\n",
       "  <tbody>\n",
       "    <tr>\n",
       "      <th>count</th>\n",
       "      <td>10000.00000</td>\n",
       "      <td>1.000000e+04</td>\n",
       "      <td>10000.000000</td>\n",
       "      <td>10000.000000</td>\n",
       "      <td>9091.000000</td>\n",
       "      <td>10000.000000</td>\n",
       "      <td>10000.000000</td>\n",
       "      <td>10000.00000</td>\n",
       "      <td>10000.000000</td>\n",
       "      <td>10000.000000</td>\n",
       "      <td>10000.000000</td>\n",
       "    </tr>\n",
       "    <tr>\n",
       "      <th>mean</th>\n",
       "      <td>5000.50000</td>\n",
       "      <td>1.569094e+07</td>\n",
       "      <td>650.528800</td>\n",
       "      <td>38.921800</td>\n",
       "      <td>4.997690</td>\n",
       "      <td>76485.889288</td>\n",
       "      <td>1.530200</td>\n",
       "      <td>0.70550</td>\n",
       "      <td>0.515100</td>\n",
       "      <td>100090.239881</td>\n",
       "      <td>0.203700</td>\n",
       "    </tr>\n",
       "    <tr>\n",
       "      <th>std</th>\n",
       "      <td>2886.89568</td>\n",
       "      <td>7.193619e+04</td>\n",
       "      <td>96.653299</td>\n",
       "      <td>10.487806</td>\n",
       "      <td>2.894723</td>\n",
       "      <td>62397.405202</td>\n",
       "      <td>0.581654</td>\n",
       "      <td>0.45584</td>\n",
       "      <td>0.499797</td>\n",
       "      <td>57510.492818</td>\n",
       "      <td>0.402769</td>\n",
       "    </tr>\n",
       "    <tr>\n",
       "      <th>min</th>\n",
       "      <td>1.00000</td>\n",
       "      <td>1.556570e+07</td>\n",
       "      <td>350.000000</td>\n",
       "      <td>18.000000</td>\n",
       "      <td>0.000000</td>\n",
       "      <td>0.000000</td>\n",
       "      <td>1.000000</td>\n",
       "      <td>0.00000</td>\n",
       "      <td>0.000000</td>\n",
       "      <td>11.580000</td>\n",
       "      <td>0.000000</td>\n",
       "    </tr>\n",
       "    <tr>\n",
       "      <th>25%</th>\n",
       "      <td>2500.75000</td>\n",
       "      <td>1.562853e+07</td>\n",
       "      <td>584.000000</td>\n",
       "      <td>32.000000</td>\n",
       "      <td>2.000000</td>\n",
       "      <td>0.000000</td>\n",
       "      <td>1.000000</td>\n",
       "      <td>0.00000</td>\n",
       "      <td>0.000000</td>\n",
       "      <td>51002.110000</td>\n",
       "      <td>0.000000</td>\n",
       "    </tr>\n",
       "    <tr>\n",
       "      <th>50%</th>\n",
       "      <td>5000.50000</td>\n",
       "      <td>1.569074e+07</td>\n",
       "      <td>652.000000</td>\n",
       "      <td>37.000000</td>\n",
       "      <td>5.000000</td>\n",
       "      <td>97198.540000</td>\n",
       "      <td>1.000000</td>\n",
       "      <td>1.00000</td>\n",
       "      <td>1.000000</td>\n",
       "      <td>100193.915000</td>\n",
       "      <td>0.000000</td>\n",
       "    </tr>\n",
       "    <tr>\n",
       "      <th>75%</th>\n",
       "      <td>7500.25000</td>\n",
       "      <td>1.575323e+07</td>\n",
       "      <td>718.000000</td>\n",
       "      <td>44.000000</td>\n",
       "      <td>7.000000</td>\n",
       "      <td>127644.240000</td>\n",
       "      <td>2.000000</td>\n",
       "      <td>1.00000</td>\n",
       "      <td>1.000000</td>\n",
       "      <td>149388.247500</td>\n",
       "      <td>0.000000</td>\n",
       "    </tr>\n",
       "    <tr>\n",
       "      <th>max</th>\n",
       "      <td>10000.00000</td>\n",
       "      <td>1.581569e+07</td>\n",
       "      <td>850.000000</td>\n",
       "      <td>92.000000</td>\n",
       "      <td>10.000000</td>\n",
       "      <td>250898.090000</td>\n",
       "      <td>4.000000</td>\n",
       "      <td>1.00000</td>\n",
       "      <td>1.000000</td>\n",
       "      <td>199992.480000</td>\n",
       "      <td>1.000000</td>\n",
       "    </tr>\n",
       "  </tbody>\n",
       "</table>\n",
       "</div>"
      ],
      "text/plain": [
       "         RowNumber    CustomerId   CreditScore           Age       Tenure  \\\n",
       "count  10000.00000  1.000000e+04  10000.000000  10000.000000  9091.000000   \n",
       "mean    5000.50000  1.569094e+07    650.528800     38.921800     4.997690   \n",
       "std     2886.89568  7.193619e+04     96.653299     10.487806     2.894723   \n",
       "min        1.00000  1.556570e+07    350.000000     18.000000     0.000000   \n",
       "25%     2500.75000  1.562853e+07    584.000000     32.000000     2.000000   \n",
       "50%     5000.50000  1.569074e+07    652.000000     37.000000     5.000000   \n",
       "75%     7500.25000  1.575323e+07    718.000000     44.000000     7.000000   \n",
       "max    10000.00000  1.581569e+07    850.000000     92.000000    10.000000   \n",
       "\n",
       "             Balance  NumOfProducts    HasCrCard  IsActiveMember  \\\n",
       "count   10000.000000   10000.000000  10000.00000    10000.000000   \n",
       "mean    76485.889288       1.530200      0.70550        0.515100   \n",
       "std     62397.405202       0.581654      0.45584        0.499797   \n",
       "min         0.000000       1.000000      0.00000        0.000000   \n",
       "25%         0.000000       1.000000      0.00000        0.000000   \n",
       "50%     97198.540000       1.000000      1.00000        1.000000   \n",
       "75%    127644.240000       2.000000      1.00000        1.000000   \n",
       "max    250898.090000       4.000000      1.00000        1.000000   \n",
       "\n",
       "       EstimatedSalary        Exited  \n",
       "count     10000.000000  10000.000000  \n",
       "mean     100090.239881      0.203700  \n",
       "std       57510.492818      0.402769  \n",
       "min          11.580000      0.000000  \n",
       "25%       51002.110000      0.000000  \n",
       "50%      100193.915000      0.000000  \n",
       "75%      149388.247500      0.000000  \n",
       "max      199992.480000      1.000000  "
      ]
     },
     "execution_count": 4,
     "metadata": {},
     "output_type": "execute_result"
    }
   ],
   "source": [
    "data.describe()"
   ]
  },
  {
   "cell_type": "markdown",
   "id": "1f01a637",
   "metadata": {},
   "source": [
    "Изучив данные, видим пропуски в столбце Tenure. \n",
    "Заполним пропуски в этом столбце медианой.\n",
    "\n",
    "Также удалим три столбца, соответствующие идентификационным данным конкретного человека. Для обучения модели эти данные не имеют ценности."
   ]
  },
  {
   "cell_type": "code",
   "execution_count": 5,
   "id": "3916fbd6",
   "metadata": {},
   "outputs": [],
   "source": [
    "data['Tenure']= data['Tenure'].fillna(data['Tenure'].median())\n",
    "data = data.drop(['Surname','RowNumber','CustomerId'], axis=1)"
   ]
  },
  {
   "cell_type": "code",
   "execution_count": 6,
   "id": "5d071904",
   "metadata": {},
   "outputs": [],
   "source": [
    "#разделим на свойства и цель\n",
    "target = data['Exited']\n",
    "features = data.drop('Exited',axis=1)"
   ]
  },
  {
   "cell_type": "code",
   "execution_count": 7,
   "id": "ea5cad53",
   "metadata": {},
   "outputs": [],
   "source": [
    "#сперва отделим тренировочный набор\n",
    "features_train, features_temporary, target_train, target_temporary = train_test_split(features, \n",
    "                                                                                      target,test_size=0.4, \n",
    "                                                                                      random_state=12345)\n",
    "#далее разделяем оставшиеся данные на валидационный и тестовый наборы\n",
    "features_valid, features_test, target_valid, target_test =train_test_split(features_temporary,\n",
    "                                                                           target_temporary, \n",
    "                                                                           test_size=0.5, \n",
    "                                                                           random_state=12345)"
   ]
  },
  {
   "cell_type": "markdown",
   "id": "a4fe5b5a",
   "metadata": {},
   "source": [
    "Перед обучением проверим типы данных"
   ]
  },
  {
   "cell_type": "code",
   "execution_count": 8,
   "id": "5349ebfd",
   "metadata": {},
   "outputs": [
    {
     "data": {
      "text/plain": [
       "CreditScore          int64\n",
       "Geography           object\n",
       "Gender              object\n",
       "Age                  int64\n",
       "Tenure             float64\n",
       "Balance            float64\n",
       "NumOfProducts        int64\n",
       "HasCrCard            int64\n",
       "IsActiveMember       int64\n",
       "EstimatedSalary    float64\n",
       "Exited               int64\n",
       "dtype: object"
      ]
     },
     "execution_count": 8,
     "metadata": {},
     "output_type": "execute_result"
    }
   ],
   "source": [
    "data.dtypes"
   ]
  },
  {
   "cell_type": "code",
   "execution_count": 9,
   "id": "89478131",
   "metadata": {},
   "outputs": [
    {
     "name": "stdout",
     "output_type": "stream",
     "text": [
      "(6000, 10) (6000,)\n",
      "(2000, 10) (2000,)\n",
      "(2000, 10) (2000,)\n"
     ]
    }
   ],
   "source": [
    "#проверим, как разделились выборки\n",
    "print(features_train.shape, target_train.shape)\n",
    "print(features_valid.shape, target_valid.shape)\n",
    "print(features_test.shape, target_test.shape)"
   ]
  },
  {
   "cell_type": "markdown",
   "id": "b2dda8f1",
   "metadata": {},
   "source": [
    "Подготовим данные. Будем кодировать категориальные переменные"
   ]
  },
  {
   "cell_type": "code",
   "execution_count": 10,
   "id": "d91c3f17",
   "metadata": {},
   "outputs": [],
   "source": [
    "features_train = pd.get_dummies(features_train,drop_first= True )\n",
    "features_valid = pd.get_dummies(features_valid,drop_first= True )\n",
    "features_test = pd.get_dummies(features_test,drop_first= True )"
   ]
  },
  {
   "cell_type": "code",
   "execution_count": 12,
   "id": "0cf33637",
   "metadata": {},
   "outputs": [],
   "source": [
    "numeric = ['CreditScore', 'Age', 'Tenure', 'Balance', 'NumOfProducts', 'HasCrCard', 'IsActiveMember', 'EstimatedSalary']\n",
    "\n",
    "scaler = StandardScaler()\n",
    "scaler.fit(features_train[numeric])\n",
    "features_train[numeric] = scaler.transform(features_train[numeric])\n",
    "features_valid[numeric] = scaler.transform(features_valid[numeric])\n",
    "features_test[numeric] = scaler.transform(features_test[numeric])\n",
    "pd.options.mode.chained_assignment = None"
   ]
  },
  {
   "cell_type": "markdown",
   "id": "293f681b",
   "metadata": {},
   "source": [
    "Так как в числе других моделей мы планируем исследовать логистическую регрессию, применим масштабирование признаков"
   ]
  },
  {
   "cell_type": "markdown",
   "id": "7fd2a056",
   "metadata": {},
   "source": [
    "## 2 Исследуем баланс классов\n"
   ]
  },
  {
   "cell_type": "code",
   "execution_count": 13,
   "id": "eec15c53",
   "metadata": {
    "scrolled": true
   },
   "outputs": [
    {
     "name": "stdout",
     "output_type": "stream",
     "text": [
      "2037\n",
      "7963\n"
     ]
    }
   ],
   "source": [
    "print(len(data.loc[data['Exited'] == 1]))\n",
    "print(len(data.loc[data['Exited'] == 0]))"
   ]
  },
  {
   "cell_type": "markdown",
   "id": "4769eaab",
   "metadata": {},
   "source": [
    "Видим, что соотношение классов приблизительно 4:1. \n",
    "\n",
    "Исследуем качество разных моделей - дерево решений, случайный лес, логистическая регрессия - без учета выявленного дисбаланса.\n",
    "\n",
    "Также обучим DummyClassifier в качестве базовой модели."
   ]
  },
  {
   "cell_type": "markdown",
   "id": "2eeafbb9",
   "metadata": {},
   "source": [
    "## 3 Исследуем модели без учета дисбаланса классов"
   ]
  },
  {
   "cell_type": "code",
   "execution_count": 14,
   "id": "35137d66",
   "metadata": {},
   "outputs": [
    {
     "name": "stdout",
     "output_type": "stream",
     "text": [
      "f1: 0.1780487804878049\n",
      "auc roc: 0.4833382732777237\n"
     ]
    }
   ],
   "source": [
    "dummy_clf = DummyClassifier(strategy='stratified', random_state=12345)\n",
    "dummy_clf.fit(features_train, target_train)\n",
    "predictions_dummy = dummy_clf.predict(features_valid)\n",
    "probabilities_dummy = dummy_clf.predict_proba(features_valid)\n",
    "\n",
    "print('f1:', f1_score(predictions_dummy, target_valid))\n",
    "print('auc roc:',roc_auc_score(target_valid, probabilities_dummy[:, 1]))"
   ]
  },
  {
   "cell_type": "code",
   "execution_count": 15,
   "id": "9bc4c84b",
   "metadata": {},
   "outputs": [],
   "source": [
    "# в цикле подберем глубину дерева.\n",
    "best_model_tree = None\n",
    "best_result_tree = 0\n",
    "best_depth_tree = 0\n",
    "best_auc_roc = 0\n",
    "\n",
    "for depth in range(1,20):# для глубины от 1 до 10\n",
    "    model_tree = DecisionTreeClassifier(random_state=12345, max_depth=depth)\n",
    "    model_tree.fit(features_train, target_train)#обучаем модель\n",
    "    predictions_tree = model_tree.predict(features_valid)#получаем предсказание\n",
    "    result_tree = f1_score(target_valid, predictions_tree) \n",
    "    probabilities_tree = model_tree.predict_proba(features_valid)\n",
    "    #probabilities_one_valid_dummy = probabilities_dummy[:, 1]\n",
    "    auc_roc = roc_auc_score(target_valid, probabilities_tree[:, 1])\n",
    "    #print(result_tree)\n",
    "    \n",
    "    if result_tree > best_result_tree:\n",
    "        best_model_tree = model_tree\n",
    "        best_result_tree = result_tree\n",
    "        best_depth_tree = depth\n",
    "        best_auc_roc = auc_roc\n",
    "        \n",
    "    \n",
    "   \n",
    "    "
   ]
  },
  {
   "cell_type": "code",
   "execution_count": 16,
   "id": "f513d0cc",
   "metadata": {},
   "outputs": [
    {
     "name": "stdout",
     "output_type": "stream",
     "text": [
      "Для решающего дерева:\n",
      "auc roc: 0.8164631712023421\n",
      "f1: 0.5696969696969697\n",
      "Глубина 6\n"
     ]
    }
   ],
   "source": [
    "# для лучшей модели выводим метрики и  подобранную глубину\n",
    "print('Для решающего дерева:')\n",
    "print('auc roc:', best_auc_roc)\n",
    "print('f1:', best_result_tree)\n",
    "print('Глубина', best_depth_tree)"
   ]
  },
  {
   "cell_type": "code",
   "execution_count": 17,
   "id": "f60457da",
   "metadata": {
    "scrolled": false
   },
   "outputs": [
    {
     "name": "stdout",
     "output_type": "stream",
     "text": [
      "CPU times: user 3min 19s, sys: 2.53 s, total: 3min 22s\n",
      "Wall time: 3min 23s\n"
     ]
    },
    {
     "data": {
      "image/png": "[encoded data removed]",
      "text/plain": [
       "<Figure size 640x480 with 1 Axes>"
      ]
     },
     "metadata": {},
     "output_type": "display_data"
    }
   ],
   "source": [
    "%%time\n",
    "# Циклом подберем параметры для случайного леса - глубину и количество деревьев\n",
    "\n",
    "best_model_forest = None\n",
    "best_result_forest = 0\n",
    "best_depth_forest = 0\n",
    "best_est_forest = 0\n",
    "best_roc_auc = 0\n",
    "\n",
    "for depth in range (1,20):\n",
    "    results_forest = []\n",
    "    for est in range(1,201,10):\n",
    "        model_forest = RandomForestClassifier(random_state=12345, max_depth=depth, n_estimators=est)#обучаем модель с заданным числом деревьев\n",
    "        model_forest.fit(features_train,target_train)#обучаем модель\n",
    "        predictions_forest = model_forest.predict(features_valid)\n",
    "        result_forest = f1_score(target_valid, predictions_forest)#model_forest.score(features_valid, target_valid)\n",
    "        #probabilities_forest = model_forest.predict_proba(features_valid)\n",
    "        #probabilities_one_valid_dummy = probabilities_dummy[:, 1]\n",
    "        roc_auc = roc_auc_score(target_valid, model_forest.predict_proba(features_valid)[:,1])\n",
    "        results_forest.append(result_forest)\n",
    "    \n",
    "        if result_forest > best_result_forest:\n",
    "            best_model_forest = model_forest\n",
    "            best_result_forest = result_forest\n",
    "            best_depth_forest = depth\n",
    "            best_est_forest = est\n",
    "            best_roc_auc = roc_auc\n",
    "            \n",
    "    figsize = (3,4)       \n",
    "    plt.plot(results_forest)\n",
    "    plt.ylabel('f1')\n",
    "    plt.xlim(0,21)\n",
    "    plt.ylim(0,1)\n",
    "    #plt.show()\n",
    "\n",
    "        "
   ]
  },
  {
   "cell_type": "code",
   "execution_count": 18,
   "id": "48ecd3c0",
   "metadata": {},
   "outputs": [
    {
     "name": "stdout",
     "output_type": "stream",
     "text": [
      "Для случайного леса:\n",
      "F1: 0.5936599423631124\n",
      "Глубина: 14\n",
      "Количество деревьев: 11\n",
      "roc auc: 0.8238330137491758\n"
     ]
    }
   ],
   "source": [
    "print('Для случайного леса:')\n",
    "print('F1:', best_result_forest)\n",
    "print('Глубина:', best_depth_forest)\n",
    "print('Количество деревьев:', best_est_forest)\n",
    "print('roc auc:', best_roc_auc)"
   ]
  },
  {
   "cell_type": "markdown",
   "id": "1e53dae6",
   "metadata": {},
   "source": [
    "Построим график ROC кривой"
   ]
  },
  {
   "cell_type": "code",
   "execution_count": 19,
   "id": "a7263611",
   "metadata": {},
   "outputs": [
    {
     "data": {
      "image/png": "[encoded data removed]",
      "text/plain": [
       "<Figure size 640x480 with 1 Axes>"
      ]
     },
     "metadata": {},
     "output_type": "display_data"
    }
   ],
   "source": [
    "def roc_graph(target_valid, probabilities_one_valid):\n",
    "    fpr, tpr, thresholds = roc_curve(target_valid, probabilities_one_valid)\n",
    "    plt.figure()\n",
    "    plt.plot(fpr, tpr, color=\"darkorange\") \n",
    "    plt.plot([0, 1], [0, 1], linestyle='--')\n",
    "    plt.xlim([-0.02, 1.0])\n",
    "    plt.ylim([0.0, 1.02])\n",
    "    plt.xlabel(\"False Positive Rate\")\n",
    "    plt.ylabel(\"True Positive Rate\")\n",
    "    plt.title(\"ROC-кривая\") \n",
    "    plt.grid()\n",
    "    plt.show()\n",
    "    \n",
    "roc_graph(target_valid, best_model_forest.predict_proba(features_valid)[:,1])"
   ]
  },
  {
   "cell_type": "code",
   "execution_count": 20,
   "id": "80a9fbb5",
   "metadata": {},
   "outputs": [
    {
     "name": "stdout",
     "output_type": "stream",
     "text": [
      "Для логистической регрессии:\n",
      "F1: 0.33108108108108103\n",
      "auc roc: 0.7587588238496482\n"
     ]
    }
   ],
   "source": [
    "model_reg = LogisticRegression(random_state=12345,solver='liblinear')\n",
    "model_reg.fit(features_train, target_train)\n",
    "predictions_reg = model_reg.predict(features_valid)\n",
    "\n",
    "print('Для логистической регрессии:')\n",
    "print('F1:', f1_score(target_valid,predictions_reg))\n",
    "print('auc roc:', roc_auc_score(target_valid,model_reg.predict_proba(features_valid)[:,1]))"
   ]
  },
  {
   "cell_type": "markdown",
   "id": "79f769b9",
   "metadata": {},
   "source": [
    "Наилучший результат дает случайный лес. Логистическая регрессия дает очень низкий результат.\n",
    "\n",
    "\n",
    "Попробуем улучшить результат, учитывая дисбаланс классов. \n",
    "\n",
    "Первый способ, который мы будем использовать - взвешивание классов. Для этого добавим в модели аргумент class_weight='balanced'"
   ]
  },
  {
   "cell_type": "markdown",
   "id": "dc849f43",
   "metadata": {},
   "source": [
    "## 4 Улучшим качество моделей\n",
    "Учитываем дисбаланс классов. Используем для этого три метода - взвешивание классов, downsampling, upsampling."
   ]
  },
  {
   "cell_type": "markdown",
   "id": "7bf970a0",
   "metadata": {},
   "source": [
    "### 4.1 Взвешивание классов:"
   ]
  },
  {
   "cell_type": "code",
   "execution_count": 21,
   "id": "35a31054",
   "metadata": {},
   "outputs": [],
   "source": [
    "# взвешивание классов для дерева\n",
    "best_model_tree = None\n",
    "best_result_tree = 0\n",
    "best_depth_tree = 0\n",
    "best_auc_roc = 0\n",
    "for depth in range(1,20):\n",
    "    model_tree = DecisionTreeClassifier(random_state=12345, max_depth=depth,class_weight = 'balanced')\n",
    "    model_tree.fit(features_train, target_train)#обучаем модель\n",
    "    predictions_tree = model_tree.predict(features_valid)#получаем предсказание\n",
    "    result_tree = f1_score(target_valid, predictions_tree) #accuracy_score(target_valid, predictions_tree)#считаем accuracy (правильность)\n",
    "    auc_roc =roc_auc_score(target_valid,predictions_tree)\n",
    "    \n",
    "    if result_tree > best_result_tree:\n",
    "        best_model_tree = model_tree\n",
    "        best_result_tree = result_tree\n",
    "        best_depth_tree = depth\n",
    "        best_auc_roc = auc_roc"
   ]
  },
  {
   "cell_type": "code",
   "execution_count": 22,
   "id": "c879d3c9",
   "metadata": {},
   "outputs": [
    {
     "name": "stdout",
     "output_type": "stream",
     "text": [
      "F1: 0.5963791267305644\n",
      "Глубина: 5\n",
      "roc auc: 0.7587588238496482\n"
     ]
    }
   ],
   "source": [
    "print('F1:',best_result_tree)\n",
    "print('Глубина:', best_depth_tree)\n",
    "print('roc auc:', best_auc_roc)"
   ]
  },
  {
   "cell_type": "code",
   "execution_count": 39,
   "id": "ad375b17",
   "metadata": {},
   "outputs": [
    {
     "name": "stdout",
     "output_type": "stream",
     "text": [
      "CPU times: user 3min 27s, sys: 2.92 s, total: 3min 30s\n",
      "Wall time: 3min 31s\n"
     ]
    }
   ],
   "source": [
    "%%time\n",
    "#взвешивание классов для леса\n",
    "\n",
    "best_model_forest = None\n",
    "best_result_forest = 0\n",
    "best_depth_forest = 0\n",
    "best_est_forest = 0\n",
    "best_auc_roc = 0\n",
    "\n",
    "for depth in range (1,20):\n",
    "    for est in range(1,201,10):\n",
    "        model_forest = RandomForestClassifier(random_state=12345, max_depth = depth, n_estimators=est, class_weight = 'balanced')#обучаем модель с заданным числом деревьев\n",
    "        model_forest.fit(features_train,target_train)#обучаем модель\n",
    "        predictions_forest = model_forest.predict(features_valid)\n",
    "        result_forest = f1_score(target_valid, predictions_forest)#model_forest.score(features_valid, target_valid)\n",
    "        auc_roc = roc_auc_score(target_valid,predictions_forest)\n",
    "    \n",
    "        if result_forest > best_result_forest:\n",
    "            best_model_forest = model_forest\n",
    "            best_result_forest = result_forest\n",
    "            best_depth_forest = depth\n",
    "            best_est_forest = est\n",
    "            best_auc_roc = auc_roc"
   ]
  },
  {
   "cell_type": "code",
   "execution_count": 40,
   "id": "a9ac06d4",
   "metadata": {
    "scrolled": true
   },
   "outputs": [
    {
     "name": "stdout",
     "output_type": "stream",
     "text": [
      "F1: 0.6293859649122807\n",
      "Глубина 8\n",
      "Количество деревьев: 181\n",
      "auc roc: 0.7778779208681398\n"
     ]
    }
   ],
   "source": [
    "print('F1:', best_result_forest)\n",
    "print('Глубина', best_depth_forest)\n",
    "print('Количество деревьев:', best_est_forest)\n",
    "print('auc roc:', best_auc_roc)"
   ]
  },
  {
   "cell_type": "code",
   "execution_count": 46,
   "id": "e4b29227",
   "metadata": {
    "scrolled": true
   },
   "outputs": [
    {
     "name": "stdout",
     "output_type": "stream",
     "text": [
      "F1: 0.4888507718696398\n",
      "auc roc: 0.6945753361682564\n"
     ]
    }
   ],
   "source": [
    "#взвешивание классов для регрессии\n",
    "model_reg= LogisticRegression(random_state=12345, solver='liblinear', class_weight='balanced')\n",
    "model_reg.fit(features_train, target_train)\n",
    "predicted_valid = model_reg.predict(features_valid)\n",
    "print(\"F1:\", f1_score(target_valid, predicted_valid))\n",
    "print('auc roc:', roc_auc_score(target_valid,predicted_valid))"
   ]
  },
  {
   "cell_type": "markdown",
   "id": "de436a74",
   "metadata": {},
   "source": [
    "### 4.2 увеличение выборки (upsampling)"
   ]
  },
  {
   "cell_type": "code",
   "execution_count": 47,
   "id": "9ccb6133",
   "metadata": {},
   "outputs": [],
   "source": [
    "# напишем функцию для масштабирования выборки\n",
    "def upsample(features, target, repeat):\n",
    "    features_zeros = features[target == 0]\n",
    "    features_ones = features[target == 1]\n",
    "    target_zeros = target[target == 0]\n",
    "    target_ones = target[target == 1]\n",
    "\n",
    "    features_upsampled = pd.concat([features_zeros] + [features_ones] * repeat)\n",
    "    target_upsampled = pd.concat([target_zeros] + [target_ones] * repeat)\n",
    "    \n",
    "    features_upsampled, target_upsampled = shuffle(\n",
    "        features_upsampled, target_upsampled, random_state=12345)\n",
    "    \n",
    "    return features_upsampled, target_upsampled\n",
    "\n",
    "features_train_upsampled, target_train_upsampled = upsample(features_train, target_train, 4)\n"
   ]
  },
  {
   "cell_type": "code",
   "execution_count": 48,
   "id": "c3d0c039",
   "metadata": {},
   "outputs": [
    {
     "data": {
      "text/plain": [
       "<AxesSubplot:title={'center':'Class balance'}>"
      ]
     },
     "execution_count": 48,
     "metadata": {},
     "output_type": "execute_result"
    },
    {
     "data": {
      "image/png": "[encoded data removed]",
      "text/plain": [
       "<Figure size 640x480 with 1 Axes>"
      ]
     },
     "metadata": {},
     "output_type": "display_data"
    }
   ],
   "source": [
    "target_train_upsampled.value_counts().plot(kind='bar', title = 'Class balance')\n"
   ]
  },
  {
   "cell_type": "code",
   "execution_count": 49,
   "id": "06299d73",
   "metadata": {},
   "outputs": [],
   "source": [
    "# upsampling для дерева\n",
    "best_model_tree = None\n",
    "best_result_tree = 0\n",
    "best_depth_tree = 0\n",
    "best_auc_roc = 0\n",
    "\n",
    "for depth in range(1,20):\n",
    "    model_tree = DecisionTreeClassifier(random_state=12345, max_depth=depth)\n",
    "    model_tree.fit(features_train_upsampled, target_train_upsampled)#обучаем модель\n",
    "    predictions_tree = model_tree.predict(features_valid)#получаем предсказание\n",
    "    result_tree = f1_score(target_valid, predictions_tree) #accuracy_score(target_valid, predictions_tree)#считаем accuracy (правильность)\n",
    "    auc_roc = roc_auc_score(target_valid,predictions_tree)\n",
    "    \n",
    "    if result_tree > best_result_tree:\n",
    "        best_model_tree = model_tree\n",
    "        best_result_tree = result_tree\n",
    "        best_depth_tree = depth\n",
    "        best_auc_roc = auc_roc"
   ]
  },
  {
   "cell_type": "code",
   "execution_count": 50,
   "id": "8c19721d",
   "metadata": {},
   "outputs": [
    {
     "name": "stdout",
     "output_type": "stream",
     "text": [
      "Глубина: 5\n",
      "F1: 0.5963791267305644\n",
      "auc roc: 0.7587588238496482\n"
     ]
    }
   ],
   "source": [
    "print('Глубина:', best_depth_tree)\n",
    "print('F1:', best_result_tree)\n",
    "print('auc roc:', best_auc_roc)"
   ]
  },
  {
   "cell_type": "code",
   "execution_count": 51,
   "id": "ee11730b",
   "metadata": {},
   "outputs": [
    {
     "name": "stdout",
     "output_type": "stream",
     "text": [
      "CPU times: user 4min 49s, sys: 4.42 s, total: 4min 53s\n",
      "Wall time: 4min 56s\n"
     ]
    }
   ],
   "source": [
    "%%time\n",
    "# upsampling для случайного леса\n",
    "\n",
    "best_model_forest = None\n",
    "best_result_forest = 0\n",
    "best_depth_forest = 0\n",
    "best_est_forest = 0\n",
    "best_auc_roc = 0\n",
    "\n",
    "for depth in range (1,20):\n",
    "    for est in range(1,201,10):\n",
    "        model_forest = RandomForestClassifier(random_state=12345, max_depth = depth, n_estimators=est)#обучаем модель с заданным числом деревьев\n",
    "        model_forest.fit(features_train_upsampled,target_train_upsampled)#обучаем модель\n",
    "        predictions_forest = model_forest.predict(features_valid)\n",
    "        result_forest = f1_score(target_valid, predictions_forest)#model_forest.score(features_valid, target_valid)\n",
    "        roc_auc = roc_auc_score(target_valid,predictions_forest)\n",
    "    \n",
    "        if result_forest > best_result_forest:\n",
    "            best_model_forest = model_forest\n",
    "            best_result_forest = result_forest\n",
    "            best_depth_forest = depth\n",
    "            best_est_forest = est\n",
    "            best_auc_roc = roc_auc"
   ]
  },
  {
   "cell_type": "code",
   "execution_count": 52,
   "id": "e134fb51",
   "metadata": {},
   "outputs": [
    {
     "name": "stdout",
     "output_type": "stream",
     "text": [
      "F1: 0.6291179596174282\n",
      "Глубина: 9\n",
      "Количество деревьев: 71\n",
      "auc roc: 0.7823223585915715\n"
     ]
    }
   ],
   "source": [
    "print('F1:', best_result_forest)\n",
    "print('Глубина:', best_depth_forest)\n",
    "print('Количество деревьев:', best_est_forest)\n",
    "print('auc roc:', best_auc_roc)"
   ]
  },
  {
   "cell_type": "code",
   "execution_count": 53,
   "id": "9207a75e",
   "metadata": {},
   "outputs": [
    {
     "name": "stdout",
     "output_type": "stream",
     "text": [
      "F1: 0.4888507718696398\n",
      "auc_roc: 0.6945753361682564\n"
     ]
    }
   ],
   "source": [
    "# upsampling для регрессии\n",
    "model_reg= LogisticRegression(random_state=12345, solver='liblinear')\n",
    "model_reg.fit(features_train_upsampled, target_train_upsampled)\n",
    "predicted_valid = model_reg.predict(features_valid)\n",
    "print(\"F1:\", f1_score(target_valid, predicted_valid))\n",
    "print('auc_roc:', roc_auc_score(target_valid,predicted_valid))"
   ]
  },
  {
   "cell_type": "markdown",
   "id": "47a3c620",
   "metadata": {},
   "source": [
    "### 4.3 Уменьшение выборки (downsampling)"
   ]
  },
  {
   "cell_type": "code",
   "execution_count": 54,
   "id": "5cecf2e1",
   "metadata": {},
   "outputs": [],
   "source": [
    "# напишем функцию для уменьшения выборки\n",
    "def downsample(features, target, fraction):\n",
    "    features_zeros = features[target == 0]\n",
    "    features_ones = features[target == 1]\n",
    "    target_zeros = target[target == 0]\n",
    "    target_ones = target[target == 1]\n",
    "\n",
    "    features_downsampled = pd.concat(\n",
    "        [features_zeros.sample(frac=fraction, random_state=12345)] + [features_ones])\n",
    "    target_downsampled = pd.concat(\n",
    "        [target_zeros.sample(frac=fraction, random_state=12345)] + [target_ones])\n",
    "    \n",
    "    features_downsampled, target_downsampled = shuffle(\n",
    "        features_downsampled, target_downsampled, random_state=12345)\n",
    "    \n",
    "    return features_downsampled, target_downsampled\n",
    "\n",
    "features_train_downsampled, target_train_downsampled = downsample(features_train, target_train, 0.25)"
   ]
  },
  {
   "cell_type": "code",
   "execution_count": 55,
   "id": "11732616",
   "metadata": {},
   "outputs": [
    {
     "data": {
      "text/plain": [
       "<AxesSubplot:title={'center':'Class balance'}>"
      ]
     },
     "execution_count": 55,
     "metadata": {},
     "output_type": "execute_result"
    },
    {
     "data": {
      "image/png": "[encoded data removed]",
      "text/plain": [
       "<Figure size 640x480 with 1 Axes>"
      ]
     },
     "metadata": {},
     "output_type": "display_data"
    }
   ],
   "source": [
    "target_train_downsampled.value_counts().plot(kind='bar', title = 'Class balance')"
   ]
  },
  {
   "cell_type": "code",
   "execution_count": 56,
   "id": "4ffc7249",
   "metadata": {},
   "outputs": [],
   "source": [
    "# downsamling для решающего дерева\n",
    "best_model_tree = None\n",
    "best_result_tree = 0\n",
    "best_depth_tree = 0\n",
    "best_roc_auc = 0\n",
    "\n",
    "for depth in range(1,20):\n",
    "    model_tree = DecisionTreeClassifier(random_state=12345, max_depth=depth)\n",
    "    model_tree.fit(features_train_downsampled, target_train_downsampled)\n",
    "    predictions_tree = model_tree.predict(features_valid)\n",
    "    result_tree = f1_score(target_valid, predictions_tree) \n",
    "    roc_auc = roc_auc_score(target_valid,predictions_tree)\n",
    "    \n",
    "    if result_tree > best_result_tree:\n",
    "        best_model_tree = model_tree\n",
    "        best_result_tree = result_tree\n",
    "        best_depth_tree = depth\n",
    "        best_roc_auc = roc_auc"
   ]
  },
  {
   "cell_type": "code",
   "execution_count": 57,
   "id": "da34ab79",
   "metadata": {},
   "outputs": [
    {
     "name": "stdout",
     "output_type": "stream",
     "text": [
      "Глубина: 5\n",
      "F1: 0.5943204868154158\n",
      "roc_auc: 0.7635631718072333\n"
     ]
    }
   ],
   "source": [
    "print('Глубина:', best_depth_tree)\n",
    "print('F1:', best_result_tree)\n",
    "print('roc_auc:', best_roc_auc)"
   ]
  },
  {
   "cell_type": "code",
   "execution_count": 58,
   "id": "ad2d7c44",
   "metadata": {},
   "outputs": [],
   "source": [
    "%%time\n",
    "# downsamling для случайного леса\n",
    "\n",
    "best_model_forest = None\n",
    "best_result_forest = 0\n",
    "best_depth_forest = 0\n",
    "best_est_forest = 0\n",
    "best_auc_roc = 0\n",
    "\n",
    "for depth in range (1,20):\n",
    "    for est in range(1,201,10):\n",
    "        model_forest = RandomForestClassifier(random_state=12345,max_depth=depth, n_estimators=est)\n",
    "        model_forest.fit(features_train_downsampled,target_train_downsampled)\n",
    "        predictions_forest = model_forest.predict(features_valid)\n",
    "        result_forest = f1_score(target_valid, predictions_forest)\n",
    "        roc_auc = roc_auc_score(target_valid,predictions_forest)\n",
    "    \n",
    "        if result_forest > best_result_forest:\n",
    "            best_model_forest = model_forest\n",
    "            best_result_forest = result_forest\n",
    "            best_depth_forest = depth\n",
    "            best_est_forest = est\n",
    "            best_auc_roc = roc_auc"
   ]
  },
  {
   "cell_type": "code",
   "execution_count": 60,
   "id": "ab0cea9d",
   "metadata": {},
   "outputs": [
    {
     "name": "stdout",
     "output_type": "stream",
     "text": [
      "0.6291179596174282\n",
      "9\n",
      "71\n"
     ]
    }
   ],
   "source": [
    "print(best_result_forest)\n",
    "print(best_depth_forest)\n",
    "print(best_est_forest)"
   ]
  },
  {
   "cell_type": "code",
   "execution_count": 61,
   "id": "9bc5ac93",
   "metadata": {},
   "outputs": [
    {
     "name": "stdout",
     "output_type": "stream",
     "text": [
      "F1: 0.48406546080964685\n",
      "auc roc: 0.6901067027988314\n"
     ]
    }
   ],
   "source": [
    "# downsamling для регрессии\n",
    "model_reg= LogisticRegression(random_state=12345, solver='liblinear')\n",
    "model_reg.fit(features_train_downsampled, target_train_downsampled)\n",
    "predicted_valid = model_reg.predict(features_valid)\n",
    "print(\"F1:\", f1_score(target_valid, predicted_valid))\n",
    "print('auc roc:', roc_auc_score(target_valid,predicted_valid))"
   ]
  },
  {
   "cell_type": "markdown",
   "id": "b53ea894",
   "metadata": {},
   "source": [
    "## 5 Проведем финальное тестирование\n",
    "Проверим на тестовой выборке самую удачную модель. Это случайный лес с сбалансированными классами"
   ]
  },
  {
   "cell_type": "code",
   "execution_count": 62,
   "id": "87809339",
   "metadata": {},
   "outputs": [],
   "source": [
    "best_model = RandomForestClassifier(\n",
    "    random_state=12345, \n",
    "    max_depth = 9, \n",
    "    n_estimators=191, \n",
    "    class_weight = 'balanced')\n",
    "\n",
    "best_model.fit(features_train,target_train)\n",
    "predictions_best = best_model.predict(features_test)\n",
    "result_best = f1_score(target_test, predictions_best)\n",
    "auc_roc_best = roc_auc_score(target_test,predictions_best)       "
   ]
  },
  {
   "cell_type": "code",
   "execution_count": 63,
   "id": "458825be",
   "metadata": {},
   "outputs": [
    {
     "name": "stdout",
     "output_type": "stream",
     "text": [
      "F1: 0.6123853211009175\n",
      "auc roc: 0.7578983346600286\n"
     ]
    }
   ],
   "source": [
    "print('F1:',result_best)\n",
    "print('auc roc:', auc_roc_best)"
   ]
  },
  {
   "cell_type": "markdown",
   "id": "caf0e096",
   "metadata": {},
   "source": [
    "## 6 Вывод\n",
    "Получилен достаточно хороший результат, F1 = 0,61, auc roc = 0.75. Лучшая модель - случайный лес со сбалансированными классами. Поставленная задача выполнена"
   ]
  },
  {
   "cell_type": "code",
   "execution_count": null,
   "id": "dc7a33d2",
   "metadata": {},
   "outputs": [],
   "source": []
  }
 ],
 "metadata": {
  "ExecuteTimeLog": [
   {
    "duration": 1210,
    "start_time": "2022-12-22T10:05:42.219Z"
   },
   {
    "duration": 182,
    "start_time": "2022-12-22T10:05:43.559Z"
   },
   {
    "duration": 14,
    "start_time": "2022-12-22T10:05:44.954Z"
   },
   {
    "duration": 41,
    "start_time": "2022-12-22T10:05:45.511Z"
   },
   {
    "duration": 5,
    "start_time": "2022-12-22T10:05:48.305Z"
   },
   {
    "duration": 9,
    "start_time": "2022-12-22T10:05:59.706Z"
   },
   {
    "duration": 91,
    "start_time": "2022-12-22T10:57:27.296Z"
   },
   {
    "duration": 83,
    "start_time": "2022-12-22T10:59:16.558Z"
   },
   {
    "duration": 79,
    "start_time": "2022-12-22T11:04:26.925Z"
   },
   {
    "duration": 59,
    "start_time": "2022-12-25T11:23:26.910Z"
   }
  ],
  "kernelspec": {
   "display_name": "Python 3 (ipykernel)",
   "language": "python",
   "name": "python3"
  },
  "language_info": {
   "codemirror_mode": {
    "name": "ipython",
    "version": 3
   },
   "file_extension": ".py",
   "mimetype": "text/x-python",
   "name": "python",
   "nbconvert_exporter": "python",
   "pygments_lexer": "ipython3",
   "version": "3.9.16"
  },
  "toc": {
   "base_numbering": 1,
   "nav_menu": {},
   "number_sections": true,
   "sideBar": true,
   "skip_h1_title": true,
   "title_cell": "Table of Contents",
   "title_sidebar": "Contents",
   "toc_cell": false,
   "toc_position": {},
   "toc_section_display": true,
   "toc_window_display": false
  }
 },
 "nbformat": 4,
 "nbformat_minor": 5
}
